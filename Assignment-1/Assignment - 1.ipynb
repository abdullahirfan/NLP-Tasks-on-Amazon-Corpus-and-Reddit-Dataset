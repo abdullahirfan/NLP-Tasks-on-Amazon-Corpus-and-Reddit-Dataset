{
 "cells": [
  {
   "cell_type": "code",
   "execution_count": 1,
   "metadata": {},
   "outputs": [
    {
     "name": "stderr",
     "output_type": "stream",
     "text": [
      "C:\\Users\\User\\Anaconda3\\lib\\site-packages\\h5py\\__init__.py:36: FutureWarning: Conversion of the second argument of issubdtype from `float` to `np.floating` is deprecated. In future, it will be treated as `np.float64 == np.dtype(float).type`.\n",
      "  from ._conv import register_converters as _register_converters\n",
      "Using TensorFlow backend.\n"
     ]
    }
   ],
   "source": [
    "import keras as k\n",
    "import numpy as np\n",
    "import scipy as sc\n",
    "import gensim as g\n",
    "import pandas as pd\n",
    "from IPython.core.interactiveshell import InteractiveShell\n",
    "InteractiveShell.ast_node_interactivity = \"all\"\n",
    "from nltk.corpus import stopwords"
   ]
  },
  {
   "cell_type": "markdown",
   "metadata": {},
   "source": [
    "# 1. Tokenize the corpus (From sentences to words)"
   ]
  },
  {
   "cell_type": "markdown",
   "metadata": {},
   "source": [
    "## Data Import"
   ]
  },
  {
   "cell_type": "code",
   "execution_count": 2,
   "metadata": {},
   "outputs": [],
   "source": [
    "with open(\"neg.txt\") as negf:\n",
    "    content_n = negf.readlines()\n",
    "    \n",
    "with open(\"pos.txt\") as posf:\n",
    "    content_p = posf.readlines()"
   ]
  },
  {
   "cell_type": "markdown",
   "metadata": {},
   "source": [
    "## Removed whitespaces from beginings and end"
   ]
  },
  {
   "cell_type": "code",
   "execution_count": 3,
   "metadata": {},
   "outputs": [],
   "source": [
    "fneg = [x.strip() for x in content_n] \n",
    "#neg=[x.strip('.') for x in fneg] \n",
    "\n",
    "fpos = [x.strip() for x in content_p] \n",
    "#pos=[x.strip('.') for x in fpos] "
   ]
  },
  {
   "cell_type": "markdown",
   "metadata": {},
   "source": [
    "## Make all lower case to have perfect match with stopword list"
   ]
  },
  {
   "cell_type": "code",
   "execution_count": 4,
   "metadata": {},
   "outputs": [],
   "source": [
    "lower=[]\n",
    "def lowercase(lists): \n",
    "    lower=[x.lower() for x in lists]\n",
    "    return lower\n",
    "\n",
    "wsplit_neg=lowercase(fneg)\n",
    "wsplit_pos=lowercase(fpos)"
   ]
  },
  {
   "cell_type": "markdown",
   "metadata": {},
   "source": [
    "## Splitting happening here"
   ]
  },
  {
   "cell_type": "code",
   "execution_count": 5,
   "metadata": {},
   "outputs": [],
   "source": [
    "def splitwords(lists): \n",
    "    split=([i for item in lists for i in item.split()]) \n",
    "    return split\n",
    "\n",
    "wsplit_neg=(splitwords(wsplit_neg))\n",
    "wsplit_pos=splitwords(wsplit_pos)"
   ]
  },
  {
   "cell_type": "markdown",
   "metadata": {},
   "source": [
    "## Dealing with tokenization cases by adding whitespaces: \n",
    "1. wasn't -> wasn ' t\n",
    "2. \"pop embleshing\" -> \" pop emblishing \""
   ]
  },
  {
   "cell_type": "markdown",
   "metadata": {},
   "source": [
    "### A. Neg cases"
   ]
  },
  {
   "cell_type": "code",
   "execution_count": 6,
   "metadata": {},
   "outputs": [
    {
     "data": {
      "text/plain": [
       "['i',\n",
       " 'bought',\n",
       " 'this',\n",
       " 'when',\n",
       " 'i',\n",
       " 'bought',\n",
       " 'the',\n",
       " 'pop',\n",
       " 'maker',\n",
       " '.',\n",
       " 'as',\n",
       " 'for',\n",
       " '\"',\n",
       " 'pop',\n",
       " 'embellishing',\n",
       " '\"',\n",
       " 'well',\n",
       " '.',\n",
       " 'that',\n",
       " 'wasn',\n",
       " \"'\",\n",
       " 't',\n",
       " 'too',\n",
       " 'hard',\n",
       " 'to',\n",
       " 'figure',\n",
       " 'out',\n",
       " '.',\n",
       " 'either',\n",
       " '.',\n",
       " 'i',\n",
       " \"'\",\n",
       " 'd',\n",
       " 'save',\n",
       " 'the',\n",
       " 'money',\n",
       " 'and',\n",
       " 'spend',\n",
       " 'it',\n",
       " 'instead',\n",
       " 'on',\n",
       " 'extra',\n",
       " 'pop',\n",
       " 'sticks',\n",
       " '.',\n",
       " 'which',\n",
       " 'seem',\n",
       " 'to',\n",
       " 'disappear',\n",
       " 'the',\n",
       " 'way',\n",
       " 'socks',\n",
       " 'do',\n",
       " '.',\n",
       " 'didn',\n",
       " \"'\",\n",
       " 't',\n",
       " 'really',\n",
       " 'care',\n",
       " 'many',\n",
       " 'of',\n",
       " 'the',\n",
       " 'cakes',\n",
       " 'at',\n",
       " 'all',\n",
       " '.',\n",
       " 'not',\n",
       " 'up',\n",
       " 'to',\n",
       " 'normal',\n",
       " 'standing',\n",
       " 'for',\n",
       " 'wilton',\n",
       " 'yearbooks',\n",
       " 'of',\n",
       " 'the',\n",
       " 'past',\n",
       " '.',\n",
       " 'buy',\n",
       " 'a',\n",
       " 'wilton',\n",
       " 'magazine',\n",
       " 'for',\n",
       " 'less',\n",
       " 'money',\n",
       " 'and',\n",
       " 'get',\n",
       " 'more',\n",
       " 'ideas',\n",
       " 'and',\n",
       " 'instructions',\n",
       " 'for',\n",
       " 'your',\n",
       " 'investment',\n",
       " '.',\n",
       " 'bag',\n",
       " 'tore',\n",
       " 'with',\n",
       " 'almost',\n",
       " 'nothing',\n",
       " 'in',\n",
       " 'it',\n",
       " '-',\n",
       " 'just',\n",
       " 'caught',\n",
       " 'the',\n",
       " 'corner',\n",
       " 'of',\n",
       " 'a',\n",
       " 'small',\n",
       " 'cracker',\n",
       " 'box',\n",
       " 'and',\n",
       " 'that',\n",
       " 'was',\n",
       " 'that',\n",
       " '.',\n",
       " 'this',\n",
       " 'machine',\n",
       " 'is',\n",
       " 'exactly',\n",
       " 'what',\n",
       " 'the',\n",
       " 'name',\n",
       " 'says',\n",
       " 'it',\n",
       " 'is',\n",
       " '-',\n",
       " 'a',\n",
       " 'speller',\n",
       " '.',\n",
       " 'i',\n",
       " 'wanted',\n",
       " 'definitions',\n",
       " '.',\n",
       " 'oh',\n",
       " '.',\n",
       " 'that',\n",
       " 'would',\n",
       " 'be',\n",
       " 'a',\n",
       " 'dictionary!',\n",
       " 'i',\n",
       " 'ordered',\n",
       " 'a',\n",
       " 'dictionary',\n",
       " 'an',\n",
       " 'i',\n",
       " 'am',\n",
       " 'happy',\n",
       " '-',\n",
       " 'except',\n",
       " 'the',\n",
       " 'voice',\n",
       " 'is',\n",
       " 'scratchy',\n",
       " '.',\n",
       " 'if',\n",
       " 'you',\n",
       " 'type',\n",
       " 'the',\n",
       " 'wrong',\n",
       " 'word',\n",
       " 'in',\n",
       " '.',\n",
       " 'it',\n",
       " '&#34;might&#34;',\n",
       " 'produce',\n",
       " 'the',\n",
       " 'correct',\n",
       " 'word',\n",
       " '.',\n",
       " 'it',\n",
       " 'doesn',\n",
       " \"'\",\n",
       " 't',\n",
       " 'give',\n",
       " 'any',\n",
       " 'explanation',\n",
       " 'of',\n",
       " 'the',\n",
       " 'meaning',\n",
       " 'or',\n",
       " 'how',\n",
       " 'it',\n",
       " 'can',\n",
       " 'be',\n",
       " 'used',\n",
       " '.',\n",
       " 'i',\n",
       " 'should',\n",
       " 'have',\n",
       " 'sent',\n",
       " 'it',\n",
       " 'bk',\n",
       " '.',\n",
       " '.',\n",
       " 'but',\n",
       " 'i',\n",
       " 'factored',\n",
       " 'in',\n",
       " 'the',\n",
       " 'cost',\n",
       " 'of',\n",
       " 'return',\n",
       " 'shipping',\n",
       " '-',\n",
       " 'wasn',\n",
       " \"'\",\n",
       " 't',\n",
       " 'worth',\n",
       " 'the',\n",
       " 'return',\n",
       " '.',\n",
       " 'it',\n",
       " \"'\",\n",
       " 's',\n",
       " 'basically',\n",
       " 'just',\n",
       " 'a',\n",
       " 'coat',\n",
       " 'hanger',\n",
       " 'with',\n",
       " 'two',\n",
       " 'plastic',\n",
       " 'guides',\n",
       " '.',\n",
       " 'the',\n",
       " 'only',\n",
       " 'thing',\n",
       " 'it',\n",
       " 'has',\n",
       " 'going',\n",
       " 'for',\n",
       " 'it',\n",
       " 'is',\n",
       " 'portability',\n",
       " '.',\n",
       " 'it',\n",
       " 'can',\n",
       " 'only',\n",
       " 'hold',\n",
       " 'regular',\n",
       " 'sized',\n",
       " 'hard',\n",
       " 'covered',\n",
       " 'books',\n",
       " '.',\n",
       " 'forget',\n",
       " 'about',\n",
       " 'any',\n",
       " 'size',\n",
       " 'paperback',\n",
       " '.',\n",
       " 'it',\n",
       " 'will',\n",
       " 'not',\n",
       " 'work',\n",
       " '.',\n",
       " 'even',\n",
       " 'hard',\n",
       " 'cover',\n",
       " 'books',\n",
       " 'are',\n",
       " 'nearly',\n",
       " 'impossible',\n",
       " 'to',\n",
       " 'align',\n",
       " 'correctly',\n",
       " 'and',\n",
       " 'they',\n",
       " 'slip',\n",
       " 'and',\n",
       " 'slump',\n",
       " 'in',\n",
       " 'all',\n",
       " 'kinds',\n",
       " 'of',\n",
       " 'odd',\n",
       " 'positions',\n",
       " '.',\n",
       " 'i',\n",
       " 'tried',\n",
       " 'with',\n",
       " 'over',\n",
       " '10',\n",
       " 'textbooks',\n",
       " 'and',\n",
       " 'it',\n",
       " 'didn',\n",
       " \"'\",\n",
       " 't',\n",
       " 'do',\n",
       " 'well',\n",
       " 'with',\n",
       " 'any',\n",
       " 'of',\n",
       " 'them',\n",
       " '.',\n",
       " 'for',\n",
       " 'home',\n",
       " 'reading',\n",
       " 'i',\n",
       " \"'\",\n",
       " 'm',\n",
       " 'going',\n",
       " 'to',\n",
       " 'buy',\n",
       " 'and',\n",
       " 'suggest',\n",
       " 'you',\n",
       " 'buy',\n",
       " 'a',\n",
       " 'more',\n",
       " 'substantial',\n",
       " 'stand',\n",
       " '.',\n",
       " 'the',\n",
       " 'quality',\n",
       " 'of',\n",
       " 'the',\n",
       " 'product',\n",
       " 'is',\n",
       " 'low',\n",
       " '.',\n",
       " 'the',\n",
       " 'paint',\n",
       " 'is',\n",
       " 'uneven',\n",
       " 'and',\n",
       " 'the',\n",
       " 'bottom',\n",
       " 'of',\n",
       " 'the',\n",
       " 'cup',\n",
       " 'is',\n",
       " 'cheeped',\n",
       " '.',\n",
       " 'neither',\n",
       " 'of',\n",
       " 'them',\n",
       " 'are',\n",
       " 'true',\n",
       " '&#34;teaspoon&#34;',\n",
       " 'size',\n",
       " 'spoons',\n",
       " '.',\n",
       " 'the',\n",
       " 'flatware',\n",
       " 'is',\n",
       " 'very',\n",
       " 'thin',\n",
       " 'so',\n",
       " 'the',\n",
       " 'knife',\n",
       " 'really',\n",
       " 'has',\n",
       " 'no',\n",
       " 'cutting',\n",
       " 'power',\n",
       " '(even',\n",
       " 'for',\n",
       " 'a',\n",
       " 'butter',\n",
       " 'knife)',\n",
       " 'behind',\n",
       " 'it',\n",
       " '.',\n",
       " 'however',\n",
       " '.',\n",
       " 'for',\n",
       " 'the',\n",
       " 'price',\n",
       " 'i',\n",
       " 'paid',\n",
       " '.',\n",
       " 'i',\n",
       " 'can',\n",
       " \"'\",\n",
       " 't',\n",
       " 'expect',\n",
       " 'anything',\n",
       " 'else',\n",
       " '.',\n",
       " 'they',\n",
       " 'are',\n",
       " 'pretty',\n",
       " 'stylish',\n",
       " 'at',\n",
       " 'a',\n",
       " 'glance',\n",
       " 'but',\n",
       " 'if',\n",
       " 'you',\n",
       " \"'\",\n",
       " 're',\n",
       " 'looking',\n",
       " 'to',\n",
       " 'do',\n",
       " 'anything',\n",
       " 'that',\n",
       " 'requires',\n",
       " 'a',\n",
       " 'durable',\n",
       " 'utensil',\n",
       " '.',\n",
       " 'this',\n",
       " 'isn',\n",
       " \"'\",\n",
       " 't',\n",
       " 'the',\n",
       " 'one',\n",
       " 'you',\n",
       " 'want',\n",
       " '.',\n",
       " 'also',\n",
       " 'look',\n",
       " 'carefully',\n",
       " 'at',\n",
       " 'the',\n",
       " 'fork',\n",
       " 'and',\n",
       " 'knife',\n",
       " '.',\n",
       " 'they',\n",
       " 'are',\n",
       " 'shaped',\n",
       " 'quite',\n",
       " 'differently',\n",
       " 'than',\n",
       " 'a',\n",
       " 'regular',\n",
       " 'set',\n",
       " '.',\n",
       " 'the',\n",
       " 'fork',\n",
       " 'also',\n",
       " 'bends',\n",
       " 'pretty',\n",
       " 'easily',\n",
       " 'which',\n",
       " 'is',\n",
       " 'not',\n",
       " 'good',\n",
       " 'when',\n",
       " 'trying',\n",
       " 'to',\n",
       " 'eat',\n",
       " 'a',\n",
       " 'steak',\n",
       " '.',\n",
       " 'the',\n",
       " 'spoons',\n",
       " 'are',\n",
       " 'also',\n",
       " 'very',\n",
       " 'disproportionate',\n",
       " 'if',\n",
       " 'you',\n",
       " 'look',\n",
       " 'at',\n",
       " 'the',\n",
       " 'little',\n",
       " 'spoon',\n",
       " 'it',\n",
       " 'is',\n",
       " 'way',\n",
       " 'smaller',\n",
       " 'than',\n",
       " 'it',\n",
       " 'appears',\n",
       " 'in',\n",
       " 'the',\n",
       " 'picture',\n",
       " '.',\n",
       " 'i',\n",
       " 'hate',\n",
       " 'to',\n",
       " 'say',\n",
       " 'it',\n",
       " 'but',\n",
       " 'i',\n",
       " 'was',\n",
       " 'not',\n",
       " 'impressed',\n",
       " 'with',\n",
       " 'ikea',\n",
       " 'in',\n",
       " 'this',\n",
       " 'case',\n",
       " '.',\n",
       " 'i',\n",
       " 'had',\n",
       " 'to',\n",
       " 'buy',\n",
       " 'a',\n",
       " 'whole',\n",
       " 'new',\n",
       " 'set',\n",
       " 'to',\n",
       " 'replace',\n",
       " 'this',\n",
       " 'one',\n",
       " '.',\n",
       " 'while',\n",
       " 'this',\n",
       " 'is',\n",
       " 'a',\n",
       " 'cute',\n",
       " 'tin',\n",
       " 'box',\n",
       " '(and',\n",
       " 'i',\n",
       " 'used',\n",
       " 'it',\n",
       " 'to',\n",
       " 'hold',\n",
       " 'mini',\n",
       " '-',\n",
       " 'muffins',\n",
       " 'at',\n",
       " 'at',\n",
       " 'baby',\n",
       " 'shower)',\n",
       " '.',\n",
       " 'it',\n",
       " 'isn',\n",
       " \"'\",\n",
       " 't',\n",
       " 'meant',\n",
       " 'to',\n",
       " 'be',\n",
       " 'used',\n",
       " '.',\n",
       " 'would',\n",
       " 'look',\n",
       " 'cute',\n",
       " 'as',\n",
       " 'a',\n",
       " 'decoration',\n",
       " 'in',\n",
       " 'a',\n",
       " 'baby',\n",
       " \"'\",\n",
       " 's',\n",
       " 'room',\n",
       " 'or',\n",
       " 'to',\n",
       " 'hold',\n",
       " 'all',\n",
       " 'those',\n",
       " 'crayon',\n",
       " \"'\",\n",
       " 's',\n",
       " 'for',\n",
       " 'an',\n",
       " 'older',\n",
       " 'child',\n",
       " '.',\n",
       " '[tried',\n",
       " 'onions',\n",
       " '.',\n",
       " 'tomatoes',\n",
       " '.',\n",
       " 'celery',\n",
       " '.',\n",
       " 'olives',\n",
       " '.',\n",
       " 'nuts',\n",
       " '.',\n",
       " 'and',\n",
       " 'many',\n",
       " 'other',\n",
       " 'items',\n",
       " '.',\n",
       " ']',\n",
       " 'tried',\n",
       " '2',\n",
       " '.',\n",
       " '4',\n",
       " '.',\n",
       " 'and',\n",
       " '8',\n",
       " '-',\n",
       " 'oz',\n",
       " 'loads',\n",
       " '.',\n",
       " 'but',\n",
       " 'who',\n",
       " 'needs',\n",
       " 'that?this',\n",
       " 'will',\n",
       " 'be',\n",
       " 'the',\n",
       " 'last',\n",
       " 'cuisinart',\n",
       " 'product',\n",
       " 'i',\n",
       " \"'\",\n",
       " 'll',\n",
       " 'buy;',\n",
       " 'their',\n",
       " 'griddler',\n",
       " '.',\n",
       " 'blender',\n",
       " '.',\n",
       " 'and',\n",
       " 'ice',\n",
       " 'cream',\n",
       " 'maker',\n",
       " 'are',\n",
       " 'poorly',\n",
       " 'engineered',\n",
       " 'too',\n",
       " '.',\n",
       " 'this',\n",
       " 'is',\n",
       " 'okay',\n",
       " 'for',\n",
       " 'chopping',\n",
       " 'cilantro',\n",
       " '.',\n",
       " 'but',\n",
       " 'does',\n",
       " 'not',\n",
       " 'puree',\n",
       " 'very',\n",
       " 'well',\n",
       " '.',\n",
       " 'i',\n",
       " 'my',\n",
       " 'mind',\n",
       " 'it',\n",
       " 'does',\n",
       " 'not',\n",
       " 'live',\n",
       " 'up',\n",
       " 'to',\n",
       " 'the',\n",
       " 'cuisinart',\n",
       " 'name',\n",
       " '.',\n",
       " 'my',\n",
       " 'original',\n",
       " 'mini',\n",
       " 'prep',\n",
       " 'had',\n",
       " 'a',\n",
       " 'sharp',\n",
       " 'blade',\n",
       " '.',\n",
       " 'not',\n",
       " 'a',\n",
       " 'serrated',\n",
       " 'blade',\n",
       " '.',\n",
       " 'i',\n",
       " 'got',\n",
       " 'years',\n",
       " 'of',\n",
       " 'use',\n",
       " 'out',\n",
       " 'of',\n",
       " 'it',\n",
       " '.',\n",
       " 'and',\n",
       " 'i',\n",
       " 'wouldn',\n",
       " \"'\",\n",
       " 't',\n",
       " 'have',\n",
       " 'replaced',\n",
       " 'it',\n",
       " 'but',\n",
       " 'my',\n",
       " 'husband',\n",
       " 'mistakenly',\n",
       " 'through',\n",
       " 'the',\n",
       " 'lid',\n",
       " 'out',\n",
       " 'in',\n",
       " 'the',\n",
       " 'trash',\n",
       " '.',\n",
       " 'this',\n",
       " 'one',\n",
       " 'is',\n",
       " 'only',\n",
       " 'so',\n",
       " 'so',\n",
       " '.',\n",
       " 'and',\n",
       " 'food',\n",
       " 'gets',\n",
       " 'caught',\n",
       " 'in',\n",
       " 'the',\n",
       " 'teeth',\n",
       " 'of',\n",
       " 'the',\n",
       " 'serrated',\n",
       " 'blade',\n",
       " '.',\n",
       " 'this',\n",
       " 'was',\n",
       " 'a',\n",
       " 'replacement',\n",
       " 'for',\n",
       " 'a',\n",
       " 'krupps',\n",
       " 'processor',\n",
       " 'and',\n",
       " 'i',\n",
       " 'only',\n",
       " 'used',\n",
       " 'it',\n",
       " '3',\n",
       " 'times',\n",
       " '.',\n",
       " 'i',\n",
       " 'had',\n",
       " 'to',\n",
       " 'buy',\n",
       " 'a',\n",
       " 'phillips',\n",
       " 'to',\n",
       " 'replace',\n",
       " 'it',\n",
       " '.',\n",
       " 'it',\n",
       " \"'\",\n",
       " 's',\n",
       " 'so',\n",
       " 'small',\n",
       " '(of',\n",
       " 'course)',\n",
       " 'and',\n",
       " 'it',\n",
       " \"'\",\n",
       " 's',\n",
       " 'really',\n",
       " 'only',\n",
       " 'good',\n",
       " 'for',\n",
       " 'nuts',\n",
       " '.',\n",
       " 'i',\n",
       " 'have',\n",
       " 'black',\n",
       " '&',\n",
       " 'decker',\n",
       " 'that',\n",
       " 'does',\n",
       " 'a',\n",
       " 'better',\n",
       " 'job',\n",
       " '.',\n",
       " 'my',\n",
       " 'big',\n",
       " 'cuisinart',\n",
       " 'broke',\n",
       " 'so',\n",
       " 'i',\n",
       " 'thought',\n",
       " 'for',\n",
       " 'a',\n",
       " 'small',\n",
       " 'size',\n",
       " 'it',\n",
       " 'would',\n",
       " 'be',\n",
       " 'good',\n",
       " '.',\n",
       " 'did',\n",
       " 'not',\n",
       " 'even',\n",
       " 'crush',\n",
       " 'wet',\n",
       " 'beans',\n",
       " 'or',\n",
       " 'move',\n",
       " 'it',\n",
       " 'to',\n",
       " 'the',\n",
       " 'top',\n",
       " 'as',\n",
       " 'said',\n",
       " '.',\n",
       " 'it',\n",
       " 'was',\n",
       " 'to',\n",
       " 'late',\n",
       " 'for',\n",
       " 'me',\n",
       " 'to',\n",
       " 'return',\n",
       " 'it',\n",
       " '.',\n",
       " 'this',\n",
       " 'is',\n",
       " 'my',\n",
       " 'very',\n",
       " 'first',\n",
       " 'mini',\n",
       " 'processor',\n",
       " '.',\n",
       " 'i',\n",
       " 'was',\n",
       " 'so',\n",
       " 'excited',\n",
       " 'to',\n",
       " 'get',\n",
       " 'it',\n",
       " 'for',\n",
       " 'making',\n",
       " 'baby',\n",
       " 'puree',\n",
       " '.',\n",
       " 'its',\n",
       " 'a',\n",
       " 'good',\n",
       " 'size',\n",
       " 'for',\n",
       " 'that',\n",
       " 'purpose',\n",
       " '.',\n",
       " 'small',\n",
       " 'enough',\n",
       " 'i',\n",
       " 'can',\n",
       " 'leave',\n",
       " 'it',\n",
       " 'on',\n",
       " 'the',\n",
       " 'counter',\n",
       " 'top',\n",
       " '.',\n",
       " 'however',\n",
       " '.',\n",
       " 'i',\n",
       " 'am',\n",
       " 'disappointed',\n",
       " 'after',\n",
       " 'my',\n",
       " 'first',\n",
       " 'try',\n",
       " '.',\n",
       " 'i',\n",
       " 'dont',\n",
       " 'know',\n",
       " 'what',\n",
       " 'im',\n",
       " 'doing',\n",
       " 'wrong',\n",
       " '.',\n",
       " 'if',\n",
       " 'anyone',\n",
       " 'has',\n",
       " 'any',\n",
       " 'suggestions',\n",
       " '-',\n",
       " 'feel',\n",
       " 'free',\n",
       " 'to',\n",
       " 'help',\n",
       " 'me',\n",
       " 'out',\n",
       " '.',\n",
       " 'well',\n",
       " '.',\n",
       " 'it',\n",
       " 'worked',\n",
       " 'for',\n",
       " '10',\n",
       " 'seconds',\n",
       " 'and',\n",
       " 'then',\n",
       " 'died',\n",
       " '.',\n",
       " 'the',\n",
       " 'blade',\n",
       " 'mechanism',\n",
       " 'on',\n",
       " 'this',\n",
       " 'chopper',\n",
       " 'is',\n",
       " 'extremely',\n",
       " 'difficult',\n",
       " 'to',\n",
       " 'remove',\n",
       " 'or',\n",
       " 'adjust',\n",
       " '.',\n",
       " 'i',\n",
       " 'can',\n",
       " \"'\",\n",
       " 't',\n",
       " 'imagine',\n",
       " 'how',\n",
       " 'someone',\n",
       " 'with',\n",
       " 'large',\n",
       " 'fingers',\n",
       " 'would',\n",
       " 'manage',\n",
       " '.',\n",
       " 'there',\n",
       " \"'\",\n",
       " 's',\n",
       " 'nothing',\n",
       " 'i',\n",
       " 'can',\n",
       " 'do',\n",
       " 'in',\n",
       " 'this',\n",
       " 'thing',\n",
       " 'that',\n",
       " 'i',\n",
       " 'can',\n",
       " \"'\",\n",
       " 't',\n",
       " 'do',\n",
       " 'better',\n",
       " 'and',\n",
       " 'more',\n",
       " 'easily',\n",
       " 'with',\n",
       " 'my',\n",
       " 'hand',\n",
       " '-',\n",
       " 'held',\n",
       " 'blender',\n",
       " '.',\n",
       " 'save',\n",
       " 'your',\n",
       " 'money',\n",
       " 'and',\n",
       " 'your',\n",
       " 'fingers!',\n",
       " 'steer',\n",
       " 'clear',\n",
       " 'of',\n",
       " 'this',\n",
       " 'thing!',\n",
       " '.',\n",
       " 'i',\n",
       " 'bought',\n",
       " 'both',\n",
       " 'and',\n",
       " 'the',\n",
       " 'cusinart',\n",
       " 'turned',\n",
       " 'an',\n",
       " 'onion',\n",
       " 'into',\n",
       " 'mush',\n",
       " '.',\n",
       " 'when',\n",
       " 'i',\n",
       " 'tried',\n",
       " 'to',\n",
       " 'just',\n",
       " 'pulse',\n",
       " 'it',\n",
       " 'the',\n",
       " 'pieces',\n",
       " 'were',\n",
       " 'very',\n",
       " 'inconsistant',\n",
       " '.',\n",
       " 'so',\n",
       " 'i',\n",
       " 'pulsed',\n",
       " 'a',\n",
       " 'littlemore',\n",
       " 'and',\n",
       " 'it',\n",
       " 'turned',\n",
       " 'it',\n",
       " 'to',\n",
       " 'mush',\n",
       " '.',\n",
       " 'i',\n",
       " 'had',\n",
       " 'to',\n",
       " 'chop',\n",
       " 'garlic',\n",
       " 'the',\n",
       " 'ninja',\n",
       " 'chopped',\n",
       " 'it',\n",
       " 'up',\n",
       " 'perfectly',\n",
       " '.',\n",
       " 'its',\n",
       " 'more',\n",
       " 'money',\n",
       " 'than',\n",
       " 'the',\n",
       " ...]"
      ]
     },
     "execution_count": 6,
     "metadata": {},
     "output_type": "execute_result"
    }
   ],
   "source": [
    "for i in range(len(wsplit_neg)):\n",
    "    wsplit_neg[i]=wsplit_neg[i].replace(\"'\",\" ' \")\n",
    "    wsplit_neg[i]=wsplit_neg[i].replace(\".\",\" . \")\n",
    "    wsplit_neg[i]=wsplit_neg[i].replace(\"-\",\" - \")\n",
    "    wsplit_neg[i]=wsplit_neg[i].replace(\",\",\" . \")\n",
    "    wsplit_neg[i]=wsplit_neg[i].replace('\"',' \" ')\n",
    "\n",
    "wsplit_neg=(splitwords(wsplit_neg))\n",
    "wsplit_neg"
   ]
  },
  {
   "cell_type": "markdown",
   "metadata": {},
   "source": [
    "### B. Pos Cases"
   ]
  },
  {
   "cell_type": "code",
   "execution_count": 7,
   "metadata": {},
   "outputs": [
    {
     "data": {
      "text/plain": [
       "['my',\n",
       " 'daughter',\n",
       " 'wanted',\n",
       " 'this',\n",
       " 'book',\n",
       " 'and',\n",
       " 'the',\n",
       " 'price',\n",
       " 'on',\n",
       " 'amazon',\n",
       " 'was',\n",
       " 'the',\n",
       " 'best',\n",
       " '.',\n",
       " 'she',\n",
       " 'has',\n",
       " 'already',\n",
       " 'tried',\n",
       " 'one',\n",
       " 'recipe',\n",
       " 'a',\n",
       " 'day',\n",
       " 'after',\n",
       " 'receiving',\n",
       " 'the',\n",
       " 'book',\n",
       " '.',\n",
       " 'i',\n",
       " 'bought',\n",
       " 'this',\n",
       " 'zoku',\n",
       " 'quick',\n",
       " 'pop',\n",
       " 'for',\n",
       " 'my',\n",
       " 'daughterr',\n",
       " 'with',\n",
       " 'her',\n",
       " 'zoku',\n",
       " 'quick',\n",
       " 'maker',\n",
       " '.',\n",
       " 'she',\n",
       " 'loves',\n",
       " 'it',\n",
       " 'and',\n",
       " 'have',\n",
       " 'fun',\n",
       " 'to',\n",
       " 'make',\n",
       " 'her',\n",
       " 'own',\n",
       " 'ice',\n",
       " 'cream',\n",
       " '.',\n",
       " 'i',\n",
       " 'was',\n",
       " 'hoping',\n",
       " 'there',\n",
       " 'were',\n",
       " 'more',\n",
       " 'where',\n",
       " 'those',\n",
       " 'came',\n",
       " 'from',\n",
       " '.',\n",
       " 'this',\n",
       " 'book',\n",
       " 'emphasizes',\n",
       " 'very',\n",
       " 'sweet',\n",
       " 'dessert',\n",
       " 'pops',\n",
       " '.',\n",
       " 'however',\n",
       " '.',\n",
       " 'there',\n",
       " 'are',\n",
       " '41',\n",
       " 'recipes',\n",
       " 'in',\n",
       " 'total',\n",
       " '.',\n",
       " 'only',\n",
       " '13',\n",
       " 'of',\n",
       " 'which',\n",
       " 'are',\n",
       " 'fruit',\n",
       " 'pops',\n",
       " '.',\n",
       " 'there',\n",
       " 'is',\n",
       " 'a',\n",
       " '\"',\n",
       " 'fresh',\n",
       " 'and',\n",
       " 'fruity',\n",
       " '\"',\n",
       " 'chapter',\n",
       " '.',\n",
       " 'followed',\n",
       " 'by',\n",
       " 'three',\n",
       " 'chapters',\n",
       " 'of',\n",
       " 'dessert',\n",
       " 'pops',\n",
       " 'entitled',\n",
       " '\"',\n",
       " 'i',\n",
       " 'scream',\n",
       " 'for',\n",
       " 'quick',\n",
       " 'pops!',\n",
       " '\"',\n",
       " '.',\n",
       " '\"',\n",
       " 'bake',\n",
       " 'shop',\n",
       " '\"',\n",
       " '.',\n",
       " 'and',\n",
       " '\"',\n",
       " 'coco',\n",
       " 'loco',\n",
       " '\"',\n",
       " '.',\n",
       " 'as',\n",
       " 'you',\n",
       " 'might',\n",
       " 'guess',\n",
       " 'from',\n",
       " 'the',\n",
       " 'last',\n",
       " 'one',\n",
       " '.',\n",
       " 'there',\n",
       " 'are',\n",
       " '15',\n",
       " 'pop',\n",
       " 'recipes',\n",
       " 'that',\n",
       " 'contain',\n",
       " 'chocolate',\n",
       " '.',\n",
       " 'chapters',\n",
       " 'on',\n",
       " '\"',\n",
       " 'tips',\n",
       " '\"',\n",
       " 'and',\n",
       " '\"',\n",
       " 'techniques',\n",
       " '\"',\n",
       " 'are',\n",
       " 'useful',\n",
       " '.',\n",
       " 'there',\n",
       " 'is',\n",
       " 'more',\n",
       " 'detailed',\n",
       " 'information',\n",
       " 'about',\n",
       " 'ingredients',\n",
       " 'that',\n",
       " 'don',\n",
       " \"'\",\n",
       " 't',\n",
       " 'freeze',\n",
       " 'well',\n",
       " 'in',\n",
       " 'the',\n",
       " 'zoku',\n",
       " 'than',\n",
       " 'is',\n",
       " 'found',\n",
       " 'in',\n",
       " 'the',\n",
       " 'instruction',\n",
       " 'manual',\n",
       " '.',\n",
       " 'the',\n",
       " 'pages',\n",
       " 'about',\n",
       " 'core',\n",
       " 'pops',\n",
       " 'are',\n",
       " 'especially',\n",
       " 'helpful',\n",
       " '.',\n",
       " 'as',\n",
       " 'they',\n",
       " 'include',\n",
       " 'recipes',\n",
       " 'for',\n",
       " 'pink',\n",
       " '.',\n",
       " 'purple',\n",
       " '.',\n",
       " 'and',\n",
       " 'orange',\n",
       " 'outer',\n",
       " 'layers',\n",
       " 'for',\n",
       " 'brightly',\n",
       " '-',\n",
       " 'colored',\n",
       " 'core',\n",
       " 'pops',\n",
       " '.',\n",
       " 'many',\n",
       " '.',\n",
       " 'including',\n",
       " 'the',\n",
       " 'recipe',\n",
       " 'for',\n",
       " 'a',\n",
       " 'vanilla',\n",
       " 'base',\n",
       " '.',\n",
       " 'call',\n",
       " 'for',\n",
       " 'vanilla',\n",
       " 'pudding',\n",
       " '.',\n",
       " 'where',\n",
       " 'vanilla',\n",
       " 'greek',\n",
       " 'yogurt',\n",
       " 'would',\n",
       " 'do',\n",
       " 'just',\n",
       " 'as',\n",
       " 'well',\n",
       " '.',\n",
       " 'on',\n",
       " 'the',\n",
       " 'bright',\n",
       " 'side',\n",
       " '.',\n",
       " 'many',\n",
       " 'of',\n",
       " 'these',\n",
       " 'recipes',\n",
       " 'may',\n",
       " 'appeal',\n",
       " 'to',\n",
       " 'children',\n",
       " '.',\n",
       " 'whereas',\n",
       " 'most',\n",
       " 'pop',\n",
       " 'books',\n",
       " 'that',\n",
       " 'i',\n",
       " 'have',\n",
       " 'seen',\n",
       " 'are',\n",
       " 'geared',\n",
       " 'more',\n",
       " 'to',\n",
       " 'adults',\n",
       " '.',\n",
       " 'there',\n",
       " 'are',\n",
       " 'flavors',\n",
       " 'like',\n",
       " '\"',\n",
       " 'cookie',\n",
       " 'dough',\n",
       " '\"',\n",
       " '.',\n",
       " '\"',\n",
       " 'that',\n",
       " \"'\",\n",
       " 's',\n",
       " 'a',\n",
       " 's',\n",
       " \"'\",\n",
       " 'more',\n",
       " '\"',\n",
       " '.',\n",
       " 'chocolate',\n",
       " 'peanut',\n",
       " 'butter',\n",
       " '.',\n",
       " 'and',\n",
       " 'peanut',\n",
       " 'butter',\n",
       " 'and',\n",
       " 'jelly',\n",
       " '.',\n",
       " 'most',\n",
       " 'of',\n",
       " 'the',\n",
       " 'fruit',\n",
       " 'recipes',\n",
       " 'are',\n",
       " 'gimmicky',\n",
       " 'and',\n",
       " 'contain',\n",
       " 'too',\n",
       " 'many',\n",
       " 'ingredients',\n",
       " '.',\n",
       " 'the',\n",
       " 'recipe',\n",
       " 'for',\n",
       " 'lemonade',\n",
       " 'pops',\n",
       " 'contains',\n",
       " 'orange',\n",
       " 'juice',\n",
       " '.',\n",
       " 'which',\n",
       " 'is',\n",
       " 'fine',\n",
       " '.',\n",
       " 'but',\n",
       " 'the',\n",
       " 'addition',\n",
       " 'of',\n",
       " 'vanilla',\n",
       " 'extract',\n",
       " 'kills',\n",
       " 'the',\n",
       " 'fresh',\n",
       " 'fruit',\n",
       " 'flavor',\n",
       " '.',\n",
       " 'the',\n",
       " 'recipe',\n",
       " 'for',\n",
       " 'mango',\n",
       " 'pops',\n",
       " 'includes',\n",
       " 'orange',\n",
       " '.',\n",
       " 'apple',\n",
       " '.',\n",
       " 'banana',\n",
       " 'and',\n",
       " 'lemon',\n",
       " '.',\n",
       " 'which',\n",
       " 'are',\n",
       " 'too',\n",
       " 'many',\n",
       " 'competing',\n",
       " 'flavors',\n",
       " '.',\n",
       " 'mango',\n",
       " 'and',\n",
       " 'orange',\n",
       " 'together',\n",
       " 'make',\n",
       " 'a',\n",
       " 'terrific',\n",
       " 'pop',\n",
       " '.',\n",
       " 'the',\n",
       " 'book',\n",
       " 'is',\n",
       " 'great',\n",
       " 'for',\n",
       " 'chocolate',\n",
       " 'lovers',\n",
       " 'and',\n",
       " 'those',\n",
       " 'looking',\n",
       " 'for',\n",
       " 'dessert',\n",
       " 'pop',\n",
       " 'recipes',\n",
       " '.',\n",
       " 'for',\n",
       " 'fruit',\n",
       " 'pop',\n",
       " 'recipes',\n",
       " '.',\n",
       " '\"',\n",
       " 'top',\n",
       " 'pops',\n",
       " '\"',\n",
       " 'by',\n",
       " 'emily',\n",
       " 'zaiden',\n",
       " 'is',\n",
       " 'far',\n",
       " 'better',\n",
       " '.',\n",
       " 'this',\n",
       " 'book',\n",
       " 'is',\n",
       " 'a',\n",
       " 'must',\n",
       " 'have',\n",
       " 'if',\n",
       " 'you',\n",
       " 'get',\n",
       " 'a',\n",
       " 'zoku',\n",
       " '(which',\n",
       " 'i',\n",
       " 'also',\n",
       " 'highly',\n",
       " 'recommend)',\n",
       " '.',\n",
       " 'there',\n",
       " 'is',\n",
       " 'a',\n",
       " 'large',\n",
       " 'variety',\n",
       " 'of',\n",
       " 'recipes',\n",
       " 'from',\n",
       " 'simple',\n",
       " '.',\n",
       " 'to',\n",
       " 'fancy',\n",
       " '.',\n",
       " 'the',\n",
       " 'flavor',\n",
       " 'combos',\n",
       " 'are',\n",
       " 'creative',\n",
       " '.',\n",
       " 'and',\n",
       " 'it',\n",
       " 'gives',\n",
       " 'you',\n",
       " 'ideas',\n",
       " 'for',\n",
       " 'decorating',\n",
       " 'the',\n",
       " 'pops',\n",
       " 'too',\n",
       " '.',\n",
       " 'they',\n",
       " 'turn',\n",
       " 'out',\n",
       " 'as',\n",
       " 'beautiful',\n",
       " 'as',\n",
       " 'they',\n",
       " 'are',\n",
       " 'tasty',\n",
       " '.',\n",
       " 'after',\n",
       " 'reading',\n",
       " 'it',\n",
       " 'you',\n",
       " 'will',\n",
       " 'be',\n",
       " 'inspired',\n",
       " 'to',\n",
       " 'create',\n",
       " 'your',\n",
       " 'own',\n",
       " 'recipes',\n",
       " 'too',\n",
       " '.',\n",
       " 'i',\n",
       " 'have',\n",
       " 'really',\n",
       " 'enjoyed',\n",
       " 'reviewing',\n",
       " 'all',\n",
       " 'of',\n",
       " 'the',\n",
       " 'recipes',\n",
       " '.',\n",
       " 'sure',\n",
       " '-',\n",
       " 'some',\n",
       " 'are',\n",
       " 'more',\n",
       " 'difficult',\n",
       " 'than',\n",
       " 'others',\n",
       " '.',\n",
       " 'but',\n",
       " 'there',\n",
       " 'is',\n",
       " 'a',\n",
       " 'nice',\n",
       " 'variety',\n",
       " 'in',\n",
       " 'this',\n",
       " 'book',\n",
       " '.',\n",
       " 'for',\n",
       " 'me',\n",
       " 'it',\n",
       " 'was',\n",
       " 'totally',\n",
       " 'worth',\n",
       " 'it',\n",
       " 'just',\n",
       " 'to',\n",
       " 'get',\n",
       " 'the',\n",
       " 'quick',\n",
       " 'shell',\n",
       " 'recipes',\n",
       " 'alone',\n",
       " '.',\n",
       " 'we',\n",
       " 'have',\n",
       " 'only',\n",
       " 'tried',\n",
       " 'the',\n",
       " 'chocolate',\n",
       " 'so',\n",
       " 'far',\n",
       " '.',\n",
       " 'but',\n",
       " 'it',\n",
       " 'is',\n",
       " 'so',\n",
       " 'tasty',\n",
       " '.',\n",
       " 'also',\n",
       " '.',\n",
       " 'it',\n",
       " 'has',\n",
       " 'great',\n",
       " 'instructions',\n",
       " 'for',\n",
       " 'tips',\n",
       " 'on',\n",
       " 'using',\n",
       " 'the',\n",
       " 'zoku',\n",
       " '.',\n",
       " 'this',\n",
       " 'book',\n",
       " 'is',\n",
       " 'so',\n",
       " 'beautifully',\n",
       " 'illustrated',\n",
       " 'and',\n",
       " 'easy',\n",
       " 'to',\n",
       " 'follow',\n",
       " '.',\n",
       " 'it',\n",
       " 'helps',\n",
       " 'you',\n",
       " 'to',\n",
       " 'understand',\n",
       " 'the',\n",
       " 'zoku',\n",
       " 'better',\n",
       " '.',\n",
       " 'it',\n",
       " 'might',\n",
       " 'have',\n",
       " 'been',\n",
       " 'even',\n",
       " 'better',\n",
       " 'if',\n",
       " 'they',\n",
       " 'made',\n",
       " 'the',\n",
       " 'recipe',\n",
       " 'units',\n",
       " 'for',\n",
       " 'different',\n",
       " 'sized',\n",
       " 'molds',\n",
       " '.',\n",
       " 'these',\n",
       " 'recipes',\n",
       " 'produce',\n",
       " 'too',\n",
       " 'much',\n",
       " 'for',\n",
       " 'a',\n",
       " 'single',\n",
       " 'mold',\n",
       " 'unit',\n",
       " '.',\n",
       " 'it',\n",
       " 'would',\n",
       " 'have',\n",
       " 'been',\n",
       " 'nice',\n",
       " 'if',\n",
       " 'they',\n",
       " 'used',\n",
       " 'a',\n",
       " 'matrix',\n",
       " 'for',\n",
       " 'the',\n",
       " 'ingredients',\n",
       " 'like',\n",
       " 'on',\n",
       " 'a',\n",
       " 'box',\n",
       " 'of',\n",
       " 'rice',\n",
       " '.',\n",
       " 'i',\n",
       " 'am',\n",
       " 'just',\n",
       " 'math',\n",
       " 'lazy',\n",
       " 'and',\n",
       " 'bought',\n",
       " 'a',\n",
       " 'single',\n",
       " 'mold',\n",
       " 'zoku',\n",
       " '.',\n",
       " 'dividing',\n",
       " '3/4',\n",
       " 'of',\n",
       " 'a',\n",
       " 'cup',\n",
       " '.',\n",
       " '3',\n",
       " 'tablespoons',\n",
       " 'or',\n",
       " '3',\n",
       " '1/2',\n",
       " 'tablespoons',\n",
       " 'is',\n",
       " 'kind',\n",
       " 'of',\n",
       " 'dicey',\n",
       " 'in',\n",
       " 'my',\n",
       " 'kitchen',\n",
       " '.',\n",
       " 'the',\n",
       " 'zoku',\n",
       " 'accessories',\n",
       " 'are',\n",
       " 'pricey',\n",
       " '.',\n",
       " 'but',\n",
       " 'the',\n",
       " 'recipes',\n",
       " 'have',\n",
       " 'the',\n",
       " 'exact',\n",
       " 'amount',\n",
       " 'you',\n",
       " 'need',\n",
       " 'to',\n",
       " 'make',\n",
       " 'the',\n",
       " 'pops',\n",
       " '.',\n",
       " 'i',\n",
       " 'have',\n",
       " 'made',\n",
       " 'it',\n",
       " 'through',\n",
       " '15',\n",
       " 'varieties',\n",
       " 'so',\n",
       " 'far',\n",
       " '.',\n",
       " 'and',\n",
       " 'i',\n",
       " 'like',\n",
       " 'them',\n",
       " 'all',\n",
       " '.',\n",
       " 'clear',\n",
       " 'and',\n",
       " 'helpful',\n",
       " 'information',\n",
       " '.',\n",
       " 'and',\n",
       " 'then',\n",
       " 'some',\n",
       " 'superb',\n",
       " 'recipe',\n",
       " 'suggestions',\n",
       " 'clearly',\n",
       " 'outlined',\n",
       " '.',\n",
       " 'the',\n",
       " 'recipes',\n",
       " 'in',\n",
       " 'this',\n",
       " 'books',\n",
       " 'are',\n",
       " 'tedious',\n",
       " 'to',\n",
       " 'make',\n",
       " '.',\n",
       " 'i',\n",
       " 'found',\n",
       " 'that',\n",
       " 'easier',\n",
       " 'and',\n",
       " 'simpler',\n",
       " 'recipes',\n",
       " 'can',\n",
       " 'be',\n",
       " 'found',\n",
       " 'online',\n",
       " '.',\n",
       " 'i',\n",
       " 'had',\n",
       " 'no',\n",
       " 'problem',\n",
       " 'with',\n",
       " 'the',\n",
       " 'recipes',\n",
       " 'online',\n",
       " 'working',\n",
       " 'in',\n",
       " 'the',\n",
       " 'zoku',\n",
       " 'maker',\n",
       " '.',\n",
       " 'this',\n",
       " 'beautifully',\n",
       " 'illustrated',\n",
       " 'book',\n",
       " 'featuring',\n",
       " 'ten',\n",
       " 'colorful',\n",
       " '.',\n",
       " 'glittery',\n",
       " 'butterflies',\n",
       " 'is',\n",
       " 'a',\n",
       " 'favorite',\n",
       " 'at',\n",
       " 'our',\n",
       " 'house',\n",
       " '.',\n",
       " 'i',\n",
       " 'got',\n",
       " 'this',\n",
       " 'as',\n",
       " 'a',\n",
       " 'gift',\n",
       " 'for',\n",
       " 'my',\n",
       " 'niece',\n",
       " 'and',\n",
       " 'she',\n",
       " 'loved',\n",
       " 'it',\n",
       " '.',\n",
       " 'it',\n",
       " \"'\",\n",
       " 's',\n",
       " 'a',\n",
       " 'super',\n",
       " 'cute',\n",
       " 'book',\n",
       " 'and',\n",
       " 'ill',\n",
       " 'be',\n",
       " 'getting',\n",
       " 'it',\n",
       " 'for',\n",
       " 'any',\n",
       " 'other',\n",
       " 'nieces',\n",
       " 'that',\n",
       " 'may',\n",
       " 'come',\n",
       " 'along',\n",
       " '.',\n",
       " 'this',\n",
       " 'is',\n",
       " 'the',\n",
       " 'story',\n",
       " 'of',\n",
       " 'a',\n",
       " 'group',\n",
       " 'of',\n",
       " 'butterflies',\n",
       " 'looking',\n",
       " 'for',\n",
       " 'a',\n",
       " 'place',\n",
       " 'to',\n",
       " 'sleep',\n",
       " '.',\n",
       " 'the',\n",
       " 'colors',\n",
       " 'and',\n",
       " 'the',\n",
       " 'butterflies',\n",
       " '.',\n",
       " 'and',\n",
       " 'the',\n",
       " 'cute',\n",
       " 'story',\n",
       " 'all',\n",
       " 'were',\n",
       " 'a',\n",
       " 'hit',\n",
       " '.',\n",
       " 'a',\n",
       " 'brilliant',\n",
       " 'bedtime',\n",
       " 'story',\n",
       " 'with',\n",
       " 'vibrant',\n",
       " 'colors',\n",
       " 'and',\n",
       " 'gorgeous',\n",
       " 'illustrations',\n",
       " '.',\n",
       " 'each',\n",
       " 'page',\n",
       " 'teaches',\n",
       " 'a',\n",
       " 'different',\n",
       " 'color',\n",
       " 'and',\n",
       " 'the',\n",
       " 'illustrations',\n",
       " 'boldly',\n",
       " 'burst',\n",
       " 'with',\n",
       " 'that',\n",
       " 'color',\n",
       " '.',\n",
       " '.',\n",
       " 'is',\n",
       " 'how',\n",
       " 'the',\n",
       " 'book',\n",
       " 'starts',\n",
       " 'off',\n",
       " 'and',\n",
       " 'we',\n",
       " 'are',\n",
       " 'then',\n",
       " 'led',\n",
       " 'all',\n",
       " 'around',\n",
       " 'this',\n",
       " 'color',\n",
       " 'dreamland',\n",
       " '.',\n",
       " 'the',\n",
       " 'butterflies',\n",
       " 'in',\n",
       " 'the',\n",
       " 'book',\n",
       " 'are',\n",
       " 'popped',\n",
       " 'out',\n",
       " 'and',\n",
       " 'sparkly',\n",
       " '.',\n",
       " 'as',\n",
       " 'we',\n",
       " 'turn',\n",
       " 'each',\n",
       " 'page',\n",
       " 'the',\n",
       " 'color',\n",
       " 'butterfly',\n",
       " 'we',\n",
       " 'are',\n",
       " 'reading',\n",
       " 'about',\n",
       " 'disappears',\n",
       " '.',\n",
       " 'each',\n",
       " 'page',\n",
       " 'mentions',\n",
       " 'the',\n",
       " 'color',\n",
       " 'twice',\n",
       " 'and',\n",
       " 'an',\n",
       " 'animal',\n",
       " '.',\n",
       " 'the',\n",
       " 'last',\n",
       " 'page',\n",
       " 'reunites',\n",
       " 'all',\n",
       " 'the',\n",
       " 'butterflies',\n",
       " 'and',\n",
       " 'the',\n",
       " 'colorful',\n",
       " 'animals',\n",
       " 'as',\n",
       " 'we',\n",
       " 'say',\n",
       " 'goodnight',\n",
       " '.',\n",
       " '.',\n",
       " '.',\n",
       " 'my',\n",
       " 'daughter',\n",
       " 'loved',\n",
       " 'this',\n",
       " 'book',\n",
       " 'since',\n",
       " 'she',\n",
       " 'was',\n",
       " '4',\n",
       " 'months',\n",
       " 'old',\n",
       " '.',\n",
       " 'the',\n",
       " 'colorful',\n",
       " 'illustrations',\n",
       " 'keep',\n",
       " 'her',\n",
       " 'interested',\n",
       " 'and',\n",
       " 'she',\n",
       " 'likes',\n",
       " 'to',\n",
       " 'grab',\n",
       " 'at',\n",
       " 'the',\n",
       " 'popped',\n",
       " 'up',\n",
       " 'butterflies',\n",
       " '.',\n",
       " 'a',\n",
       " 'delightful',\n",
       " 'story',\n",
       " 'i',\n",
       " 'enjoy',\n",
       " 'reading',\n",
       " 'again',\n",
       " 'and',\n",
       " 'again',\n",
       " '.',\n",
       " 'my',\n",
       " 'daughter',\n",
       " '1',\n",
       " 'year',\n",
       " 'old',\n",
       " 'really',\n",
       " 'likes',\n",
       " 'this',\n",
       " 'book',\n",
       " '.',\n",
       " 'i',\n",
       " 'bought',\n",
       " 'it',\n",
       " 'because',\n",
       " 'of',\n",
       " 'its',\n",
       " 'similarity',\n",
       " 'to',\n",
       " 'the',\n",
       " '10',\n",
       " 'little',\n",
       " 'ladybugs',\n",
       " 'book',\n",
       " '.',\n",
       " 'it',\n",
       " 'has',\n",
       " 'the',\n",
       " 'same',\n",
       " 'sort',\n",
       " 'of',\n",
       " 'colorful',\n",
       " 'illustrations',\n",
       " 'and',\n",
       " 'i',\n",
       " 'like',\n",
       " 'it',\n",
       " 'better',\n",
       " 'as',\n",
       " 'the',\n",
       " 'ladybugs',\n",
       " 'are',\n",
       " 'not',\n",
       " 'as',\n",
       " 'pretty',\n",
       " 'as',\n",
       " 'the',\n",
       " 'sparkly',\n",
       " 'butterflies',\n",
       " '.',\n",
       " 'i',\n",
       " 'would',\n",
       " 'say',\n",
       " 'it',\n",
       " 'was',\n",
       " 'one',\n",
       " 'of',\n",
       " 'her',\n",
       " 'very',\n",
       " 'favorites',\n",
       " ...]"
      ]
     },
     "execution_count": 7,
     "metadata": {},
     "output_type": "execute_result"
    }
   ],
   "source": [
    "for i in range(len(wsplit_pos)):\n",
    "    wsplit_pos[i]=wsplit_pos[i].replace(\"'\",\" ' \")\n",
    "    wsplit_pos[i]=wsplit_pos[i].replace(\".\",\" . \")\n",
    "    wsplit_pos[i]=wsplit_pos[i].replace(\"-\",\" - \")\n",
    "    wsplit_pos[i]=wsplit_pos[i].replace(\",\",\" . \")\n",
    "    wsplit_pos[i]=wsplit_pos[i].replace('\"',' \" ')\n",
    "    \n",
    "wsplit_pos=(splitwords(wsplit_pos))\n",
    "wsplit_pos"
   ]
  },
  {
   "cell_type": "markdown",
   "metadata": {},
   "source": [
    "## Sample result of tokenization"
   ]
  },
  {
   "cell_type": "code",
   "execution_count": 8,
   "metadata": {},
   "outputs": [
    {
     "data": {
      "text/plain": [
       "'i'"
      ]
     },
     "execution_count": 8,
     "metadata": {},
     "output_type": "execute_result"
    },
    {
     "data": {
      "text/plain": [
       "'bought'"
      ]
     },
     "execution_count": 8,
     "metadata": {},
     "output_type": "execute_result"
    },
    {
     "data": {
      "text/plain": [
       "'this'"
      ]
     },
     "execution_count": 8,
     "metadata": {},
     "output_type": "execute_result"
    },
    {
     "data": {
      "text/plain": [
       "'when'"
      ]
     },
     "execution_count": 8,
     "metadata": {},
     "output_type": "execute_result"
    },
    {
     "data": {
      "text/plain": [
       "'i'"
      ]
     },
     "execution_count": 8,
     "metadata": {},
     "output_type": "execute_result"
    },
    {
     "data": {
      "text/plain": [
       "'bought'"
      ]
     },
     "execution_count": 8,
     "metadata": {},
     "output_type": "execute_result"
    },
    {
     "data": {
      "text/plain": [
       "'the'"
      ]
     },
     "execution_count": 8,
     "metadata": {},
     "output_type": "execute_result"
    },
    {
     "data": {
      "text/plain": [
       "'pop'"
      ]
     },
     "execution_count": 8,
     "metadata": {},
     "output_type": "execute_result"
    },
    {
     "data": {
      "text/plain": [
       "'maker'"
      ]
     },
     "execution_count": 8,
     "metadata": {},
     "output_type": "execute_result"
    },
    {
     "data": {
      "text/plain": [
       "'.'"
      ]
     },
     "execution_count": 8,
     "metadata": {},
     "output_type": "execute_result"
    },
    {
     "data": {
      "text/plain": [
       "'as'"
      ]
     },
     "execution_count": 8,
     "metadata": {},
     "output_type": "execute_result"
    },
    {
     "data": {
      "text/plain": [
       "'for'"
      ]
     },
     "execution_count": 8,
     "metadata": {},
     "output_type": "execute_result"
    },
    {
     "data": {
      "text/plain": [
       "'\"'"
      ]
     },
     "execution_count": 8,
     "metadata": {},
     "output_type": "execute_result"
    },
    {
     "data": {
      "text/plain": [
       "'pop'"
      ]
     },
     "execution_count": 8,
     "metadata": {},
     "output_type": "execute_result"
    },
    {
     "data": {
      "text/plain": [
       "'embellishing'"
      ]
     },
     "execution_count": 8,
     "metadata": {},
     "output_type": "execute_result"
    },
    {
     "data": {
      "text/plain": [
       "'\"'"
      ]
     },
     "execution_count": 8,
     "metadata": {},
     "output_type": "execute_result"
    },
    {
     "data": {
      "text/plain": [
       "'well'"
      ]
     },
     "execution_count": 8,
     "metadata": {},
     "output_type": "execute_result"
    },
    {
     "data": {
      "text/plain": [
       "'.'"
      ]
     },
     "execution_count": 8,
     "metadata": {},
     "output_type": "execute_result"
    },
    {
     "data": {
      "text/plain": [
       "'that'"
      ]
     },
     "execution_count": 8,
     "metadata": {},
     "output_type": "execute_result"
    },
    {
     "data": {
      "text/plain": [
       "'wasn'"
      ]
     },
     "execution_count": 8,
     "metadata": {},
     "output_type": "execute_result"
    },
    {
     "data": {
      "text/plain": [
       "\"'\""
      ]
     },
     "execution_count": 8,
     "metadata": {},
     "output_type": "execute_result"
    },
    {
     "data": {
      "text/plain": [
       "'t'"
      ]
     },
     "execution_count": 8,
     "metadata": {},
     "output_type": "execute_result"
    },
    {
     "data": {
      "text/plain": [
       "'too'"
      ]
     },
     "execution_count": 8,
     "metadata": {},
     "output_type": "execute_result"
    },
    {
     "data": {
      "text/plain": [
       "'hard'"
      ]
     },
     "execution_count": 8,
     "metadata": {},
     "output_type": "execute_result"
    },
    {
     "data": {
      "text/plain": [
       "'to'"
      ]
     },
     "execution_count": 8,
     "metadata": {},
     "output_type": "execute_result"
    },
    {
     "data": {
      "text/plain": [
       "'figure'"
      ]
     },
     "execution_count": 8,
     "metadata": {},
     "output_type": "execute_result"
    },
    {
     "data": {
      "text/plain": [
       "'out'"
      ]
     },
     "execution_count": 8,
     "metadata": {},
     "output_type": "execute_result"
    },
    {
     "data": {
      "text/plain": [
       "'.'"
      ]
     },
     "execution_count": 8,
     "metadata": {},
     "output_type": "execute_result"
    },
    {
     "data": {
      "text/plain": [
       "'either'"
      ]
     },
     "execution_count": 8,
     "metadata": {},
     "output_type": "execute_result"
    },
    {
     "data": {
      "text/plain": [
       "'.'"
      ]
     },
     "execution_count": 8,
     "metadata": {},
     "output_type": "execute_result"
    },
    {
     "data": {
      "text/plain": [
       "'i'"
      ]
     },
     "execution_count": 8,
     "metadata": {},
     "output_type": "execute_result"
    },
    {
     "data": {
      "text/plain": [
       "\"'\""
      ]
     },
     "execution_count": 8,
     "metadata": {},
     "output_type": "execute_result"
    },
    {
     "data": {
      "text/plain": [
       "'d'"
      ]
     },
     "execution_count": 8,
     "metadata": {},
     "output_type": "execute_result"
    },
    {
     "data": {
      "text/plain": [
       "'save'"
      ]
     },
     "execution_count": 8,
     "metadata": {},
     "output_type": "execute_result"
    },
    {
     "data": {
      "text/plain": [
       "'the'"
      ]
     },
     "execution_count": 8,
     "metadata": {},
     "output_type": "execute_result"
    },
    {
     "data": {
      "text/plain": [
       "'money'"
      ]
     },
     "execution_count": 8,
     "metadata": {},
     "output_type": "execute_result"
    },
    {
     "data": {
      "text/plain": [
       "'and'"
      ]
     },
     "execution_count": 8,
     "metadata": {},
     "output_type": "execute_result"
    },
    {
     "data": {
      "text/plain": [
       "'spend'"
      ]
     },
     "execution_count": 8,
     "metadata": {},
     "output_type": "execute_result"
    },
    {
     "data": {
      "text/plain": [
       "'it'"
      ]
     },
     "execution_count": 8,
     "metadata": {},
     "output_type": "execute_result"
    },
    {
     "data": {
      "text/plain": [
       "'instead'"
      ]
     },
     "execution_count": 8,
     "metadata": {},
     "output_type": "execute_result"
    },
    {
     "data": {
      "text/plain": [
       "'on'"
      ]
     },
     "execution_count": 8,
     "metadata": {},
     "output_type": "execute_result"
    },
    {
     "data": {
      "text/plain": [
       "'extra'"
      ]
     },
     "execution_count": 8,
     "metadata": {},
     "output_type": "execute_result"
    },
    {
     "data": {
      "text/plain": [
       "'pop'"
      ]
     },
     "execution_count": 8,
     "metadata": {},
     "output_type": "execute_result"
    },
    {
     "data": {
      "text/plain": [
       "'sticks'"
      ]
     },
     "execution_count": 8,
     "metadata": {},
     "output_type": "execute_result"
    },
    {
     "data": {
      "text/plain": [
       "'.'"
      ]
     },
     "execution_count": 8,
     "metadata": {},
     "output_type": "execute_result"
    },
    {
     "data": {
      "text/plain": [
       "'which'"
      ]
     },
     "execution_count": 8,
     "metadata": {},
     "output_type": "execute_result"
    },
    {
     "data": {
      "text/plain": [
       "'seem'"
      ]
     },
     "execution_count": 8,
     "metadata": {},
     "output_type": "execute_result"
    },
    {
     "data": {
      "text/plain": [
       "'to'"
      ]
     },
     "execution_count": 8,
     "metadata": {},
     "output_type": "execute_result"
    },
    {
     "data": {
      "text/plain": [
       "'disappear'"
      ]
     },
     "execution_count": 8,
     "metadata": {},
     "output_type": "execute_result"
    },
    {
     "data": {
      "text/plain": [
       "'the'"
      ]
     },
     "execution_count": 8,
     "metadata": {},
     "output_type": "execute_result"
    },
    {
     "data": {
      "text/plain": [
       "'way'"
      ]
     },
     "execution_count": 8,
     "metadata": {},
     "output_type": "execute_result"
    },
    {
     "data": {
      "text/plain": [
       "'socks'"
      ]
     },
     "execution_count": 8,
     "metadata": {},
     "output_type": "execute_result"
    },
    {
     "data": {
      "text/plain": [
       "'do'"
      ]
     },
     "execution_count": 8,
     "metadata": {},
     "output_type": "execute_result"
    },
    {
     "data": {
      "text/plain": [
       "'.'"
      ]
     },
     "execution_count": 8,
     "metadata": {},
     "output_type": "execute_result"
    },
    {
     "data": {
      "text/plain": [
       "'didn'"
      ]
     },
     "execution_count": 8,
     "metadata": {},
     "output_type": "execute_result"
    },
    {
     "data": {
      "text/plain": [
       "\"'\""
      ]
     },
     "execution_count": 8,
     "metadata": {},
     "output_type": "execute_result"
    },
    {
     "data": {
      "text/plain": [
       "'t'"
      ]
     },
     "execution_count": 8,
     "metadata": {},
     "output_type": "execute_result"
    },
    {
     "data": {
      "text/plain": [
       "'really'"
      ]
     },
     "execution_count": 8,
     "metadata": {},
     "output_type": "execute_result"
    },
    {
     "data": {
      "text/plain": [
       "'care'"
      ]
     },
     "execution_count": 8,
     "metadata": {},
     "output_type": "execute_result"
    },
    {
     "data": {
      "text/plain": [
       "'many'"
      ]
     },
     "execution_count": 8,
     "metadata": {},
     "output_type": "execute_result"
    },
    {
     "data": {
      "text/plain": [
       "'of'"
      ]
     },
     "execution_count": 8,
     "metadata": {},
     "output_type": "execute_result"
    },
    {
     "data": {
      "text/plain": [
       "'the'"
      ]
     },
     "execution_count": 8,
     "metadata": {},
     "output_type": "execute_result"
    },
    {
     "data": {
      "text/plain": [
       "'cakes'"
      ]
     },
     "execution_count": 8,
     "metadata": {},
     "output_type": "execute_result"
    },
    {
     "data": {
      "text/plain": [
       "'at'"
      ]
     },
     "execution_count": 8,
     "metadata": {},
     "output_type": "execute_result"
    },
    {
     "data": {
      "text/plain": [
       "'all'"
      ]
     },
     "execution_count": 8,
     "metadata": {},
     "output_type": "execute_result"
    },
    {
     "data": {
      "text/plain": [
       "'.'"
      ]
     },
     "execution_count": 8,
     "metadata": {},
     "output_type": "execute_result"
    },
    {
     "data": {
      "text/plain": [
       "'not'"
      ]
     },
     "execution_count": 8,
     "metadata": {},
     "output_type": "execute_result"
    },
    {
     "data": {
      "text/plain": [
       "'up'"
      ]
     },
     "execution_count": 8,
     "metadata": {},
     "output_type": "execute_result"
    },
    {
     "data": {
      "text/plain": [
       "'to'"
      ]
     },
     "execution_count": 8,
     "metadata": {},
     "output_type": "execute_result"
    },
    {
     "data": {
      "text/plain": [
       "'normal'"
      ]
     },
     "execution_count": 8,
     "metadata": {},
     "output_type": "execute_result"
    },
    {
     "data": {
      "text/plain": [
       "'standing'"
      ]
     },
     "execution_count": 8,
     "metadata": {},
     "output_type": "execute_result"
    },
    {
     "data": {
      "text/plain": [
       "'for'"
      ]
     },
     "execution_count": 8,
     "metadata": {},
     "output_type": "execute_result"
    },
    {
     "data": {
      "text/plain": [
       "'wilton'"
      ]
     },
     "execution_count": 8,
     "metadata": {},
     "output_type": "execute_result"
    },
    {
     "data": {
      "text/plain": [
       "'yearbooks'"
      ]
     },
     "execution_count": 8,
     "metadata": {},
     "output_type": "execute_result"
    },
    {
     "data": {
      "text/plain": [
       "'of'"
      ]
     },
     "execution_count": 8,
     "metadata": {},
     "output_type": "execute_result"
    },
    {
     "data": {
      "text/plain": [
       "'the'"
      ]
     },
     "execution_count": 8,
     "metadata": {},
     "output_type": "execute_result"
    },
    {
     "data": {
      "text/plain": [
       "'past'"
      ]
     },
     "execution_count": 8,
     "metadata": {},
     "output_type": "execute_result"
    },
    {
     "data": {
      "text/plain": [
       "'.'"
      ]
     },
     "execution_count": 8,
     "metadata": {},
     "output_type": "execute_result"
    },
    {
     "data": {
      "text/plain": [
       "'buy'"
      ]
     },
     "execution_count": 8,
     "metadata": {},
     "output_type": "execute_result"
    },
    {
     "data": {
      "text/plain": [
       "'a'"
      ]
     },
     "execution_count": 8,
     "metadata": {},
     "output_type": "execute_result"
    },
    {
     "data": {
      "text/plain": [
       "'wilton'"
      ]
     },
     "execution_count": 8,
     "metadata": {},
     "output_type": "execute_result"
    },
    {
     "data": {
      "text/plain": [
       "'magazine'"
      ]
     },
     "execution_count": 8,
     "metadata": {},
     "output_type": "execute_result"
    },
    {
     "data": {
      "text/plain": [
       "'for'"
      ]
     },
     "execution_count": 8,
     "metadata": {},
     "output_type": "execute_result"
    },
    {
     "data": {
      "text/plain": [
       "'less'"
      ]
     },
     "execution_count": 8,
     "metadata": {},
     "output_type": "execute_result"
    },
    {
     "data": {
      "text/plain": [
       "'money'"
      ]
     },
     "execution_count": 8,
     "metadata": {},
     "output_type": "execute_result"
    },
    {
     "data": {
      "text/plain": [
       "'and'"
      ]
     },
     "execution_count": 8,
     "metadata": {},
     "output_type": "execute_result"
    },
    {
     "data": {
      "text/plain": [
       "'get'"
      ]
     },
     "execution_count": 8,
     "metadata": {},
     "output_type": "execute_result"
    },
    {
     "data": {
      "text/plain": [
       "'more'"
      ]
     },
     "execution_count": 8,
     "metadata": {},
     "output_type": "execute_result"
    },
    {
     "data": {
      "text/plain": [
       "'ideas'"
      ]
     },
     "execution_count": 8,
     "metadata": {},
     "output_type": "execute_result"
    },
    {
     "data": {
      "text/plain": [
       "'and'"
      ]
     },
     "execution_count": 8,
     "metadata": {},
     "output_type": "execute_result"
    },
    {
     "data": {
      "text/plain": [
       "'instructions'"
      ]
     },
     "execution_count": 8,
     "metadata": {},
     "output_type": "execute_result"
    },
    {
     "data": {
      "text/plain": [
       "'for'"
      ]
     },
     "execution_count": 8,
     "metadata": {},
     "output_type": "execute_result"
    },
    {
     "data": {
      "text/plain": [
       "'your'"
      ]
     },
     "execution_count": 8,
     "metadata": {},
     "output_type": "execute_result"
    },
    {
     "data": {
      "text/plain": [
       "'investment'"
      ]
     },
     "execution_count": 8,
     "metadata": {},
     "output_type": "execute_result"
    },
    {
     "data": {
      "text/plain": [
       "'.'"
      ]
     },
     "execution_count": 8,
     "metadata": {},
     "output_type": "execute_result"
    },
    {
     "data": {
      "text/plain": [
       "'bag'"
      ]
     },
     "execution_count": 8,
     "metadata": {},
     "output_type": "execute_result"
    },
    {
     "data": {
      "text/plain": [
       "'tore'"
      ]
     },
     "execution_count": 8,
     "metadata": {},
     "output_type": "execute_result"
    },
    {
     "data": {
      "text/plain": [
       "'with'"
      ]
     },
     "execution_count": 8,
     "metadata": {},
     "output_type": "execute_result"
    },
    {
     "data": {
      "text/plain": [
       "'almost'"
      ]
     },
     "execution_count": 8,
     "metadata": {},
     "output_type": "execute_result"
    },
    {
     "data": {
      "text/plain": [
       "'nothing'"
      ]
     },
     "execution_count": 8,
     "metadata": {},
     "output_type": "execute_result"
    }
   ],
   "source": [
    "for j in range(0,100):\n",
    "    wsplit_neg[j]"
   ]
  },
  {
   "cell_type": "code",
   "execution_count": 9,
   "metadata": {},
   "outputs": [
    {
     "data": {
      "text/plain": [
       "'my'"
      ]
     },
     "execution_count": 9,
     "metadata": {},
     "output_type": "execute_result"
    },
    {
     "data": {
      "text/plain": [
       "'daughter'"
      ]
     },
     "execution_count": 9,
     "metadata": {},
     "output_type": "execute_result"
    },
    {
     "data": {
      "text/plain": [
       "'wanted'"
      ]
     },
     "execution_count": 9,
     "metadata": {},
     "output_type": "execute_result"
    },
    {
     "data": {
      "text/plain": [
       "'this'"
      ]
     },
     "execution_count": 9,
     "metadata": {},
     "output_type": "execute_result"
    },
    {
     "data": {
      "text/plain": [
       "'book'"
      ]
     },
     "execution_count": 9,
     "metadata": {},
     "output_type": "execute_result"
    },
    {
     "data": {
      "text/plain": [
       "'and'"
      ]
     },
     "execution_count": 9,
     "metadata": {},
     "output_type": "execute_result"
    },
    {
     "data": {
      "text/plain": [
       "'the'"
      ]
     },
     "execution_count": 9,
     "metadata": {},
     "output_type": "execute_result"
    },
    {
     "data": {
      "text/plain": [
       "'price'"
      ]
     },
     "execution_count": 9,
     "metadata": {},
     "output_type": "execute_result"
    },
    {
     "data": {
      "text/plain": [
       "'on'"
      ]
     },
     "execution_count": 9,
     "metadata": {},
     "output_type": "execute_result"
    },
    {
     "data": {
      "text/plain": [
       "'amazon'"
      ]
     },
     "execution_count": 9,
     "metadata": {},
     "output_type": "execute_result"
    },
    {
     "data": {
      "text/plain": [
       "'was'"
      ]
     },
     "execution_count": 9,
     "metadata": {},
     "output_type": "execute_result"
    },
    {
     "data": {
      "text/plain": [
       "'the'"
      ]
     },
     "execution_count": 9,
     "metadata": {},
     "output_type": "execute_result"
    },
    {
     "data": {
      "text/plain": [
       "'best'"
      ]
     },
     "execution_count": 9,
     "metadata": {},
     "output_type": "execute_result"
    },
    {
     "data": {
      "text/plain": [
       "'.'"
      ]
     },
     "execution_count": 9,
     "metadata": {},
     "output_type": "execute_result"
    },
    {
     "data": {
      "text/plain": [
       "'she'"
      ]
     },
     "execution_count": 9,
     "metadata": {},
     "output_type": "execute_result"
    },
    {
     "data": {
      "text/plain": [
       "'has'"
      ]
     },
     "execution_count": 9,
     "metadata": {},
     "output_type": "execute_result"
    },
    {
     "data": {
      "text/plain": [
       "'already'"
      ]
     },
     "execution_count": 9,
     "metadata": {},
     "output_type": "execute_result"
    },
    {
     "data": {
      "text/plain": [
       "'tried'"
      ]
     },
     "execution_count": 9,
     "metadata": {},
     "output_type": "execute_result"
    },
    {
     "data": {
      "text/plain": [
       "'one'"
      ]
     },
     "execution_count": 9,
     "metadata": {},
     "output_type": "execute_result"
    },
    {
     "data": {
      "text/plain": [
       "'recipe'"
      ]
     },
     "execution_count": 9,
     "metadata": {},
     "output_type": "execute_result"
    },
    {
     "data": {
      "text/plain": [
       "'a'"
      ]
     },
     "execution_count": 9,
     "metadata": {},
     "output_type": "execute_result"
    },
    {
     "data": {
      "text/plain": [
       "'day'"
      ]
     },
     "execution_count": 9,
     "metadata": {},
     "output_type": "execute_result"
    },
    {
     "data": {
      "text/plain": [
       "'after'"
      ]
     },
     "execution_count": 9,
     "metadata": {},
     "output_type": "execute_result"
    },
    {
     "data": {
      "text/plain": [
       "'receiving'"
      ]
     },
     "execution_count": 9,
     "metadata": {},
     "output_type": "execute_result"
    },
    {
     "data": {
      "text/plain": [
       "'the'"
      ]
     },
     "execution_count": 9,
     "metadata": {},
     "output_type": "execute_result"
    },
    {
     "data": {
      "text/plain": [
       "'book'"
      ]
     },
     "execution_count": 9,
     "metadata": {},
     "output_type": "execute_result"
    },
    {
     "data": {
      "text/plain": [
       "'.'"
      ]
     },
     "execution_count": 9,
     "metadata": {},
     "output_type": "execute_result"
    },
    {
     "data": {
      "text/plain": [
       "'i'"
      ]
     },
     "execution_count": 9,
     "metadata": {},
     "output_type": "execute_result"
    },
    {
     "data": {
      "text/plain": [
       "'bought'"
      ]
     },
     "execution_count": 9,
     "metadata": {},
     "output_type": "execute_result"
    },
    {
     "data": {
      "text/plain": [
       "'this'"
      ]
     },
     "execution_count": 9,
     "metadata": {},
     "output_type": "execute_result"
    },
    {
     "data": {
      "text/plain": [
       "'zoku'"
      ]
     },
     "execution_count": 9,
     "metadata": {},
     "output_type": "execute_result"
    },
    {
     "data": {
      "text/plain": [
       "'quick'"
      ]
     },
     "execution_count": 9,
     "metadata": {},
     "output_type": "execute_result"
    },
    {
     "data": {
      "text/plain": [
       "'pop'"
      ]
     },
     "execution_count": 9,
     "metadata": {},
     "output_type": "execute_result"
    },
    {
     "data": {
      "text/plain": [
       "'for'"
      ]
     },
     "execution_count": 9,
     "metadata": {},
     "output_type": "execute_result"
    },
    {
     "data": {
      "text/plain": [
       "'my'"
      ]
     },
     "execution_count": 9,
     "metadata": {},
     "output_type": "execute_result"
    },
    {
     "data": {
      "text/plain": [
       "'daughterr'"
      ]
     },
     "execution_count": 9,
     "metadata": {},
     "output_type": "execute_result"
    },
    {
     "data": {
      "text/plain": [
       "'with'"
      ]
     },
     "execution_count": 9,
     "metadata": {},
     "output_type": "execute_result"
    },
    {
     "data": {
      "text/plain": [
       "'her'"
      ]
     },
     "execution_count": 9,
     "metadata": {},
     "output_type": "execute_result"
    },
    {
     "data": {
      "text/plain": [
       "'zoku'"
      ]
     },
     "execution_count": 9,
     "metadata": {},
     "output_type": "execute_result"
    },
    {
     "data": {
      "text/plain": [
       "'quick'"
      ]
     },
     "execution_count": 9,
     "metadata": {},
     "output_type": "execute_result"
    },
    {
     "data": {
      "text/plain": [
       "'maker'"
      ]
     },
     "execution_count": 9,
     "metadata": {},
     "output_type": "execute_result"
    },
    {
     "data": {
      "text/plain": [
       "'.'"
      ]
     },
     "execution_count": 9,
     "metadata": {},
     "output_type": "execute_result"
    },
    {
     "data": {
      "text/plain": [
       "'she'"
      ]
     },
     "execution_count": 9,
     "metadata": {},
     "output_type": "execute_result"
    },
    {
     "data": {
      "text/plain": [
       "'loves'"
      ]
     },
     "execution_count": 9,
     "metadata": {},
     "output_type": "execute_result"
    },
    {
     "data": {
      "text/plain": [
       "'it'"
      ]
     },
     "execution_count": 9,
     "metadata": {},
     "output_type": "execute_result"
    },
    {
     "data": {
      "text/plain": [
       "'and'"
      ]
     },
     "execution_count": 9,
     "metadata": {},
     "output_type": "execute_result"
    },
    {
     "data": {
      "text/plain": [
       "'have'"
      ]
     },
     "execution_count": 9,
     "metadata": {},
     "output_type": "execute_result"
    },
    {
     "data": {
      "text/plain": [
       "'fun'"
      ]
     },
     "execution_count": 9,
     "metadata": {},
     "output_type": "execute_result"
    },
    {
     "data": {
      "text/plain": [
       "'to'"
      ]
     },
     "execution_count": 9,
     "metadata": {},
     "output_type": "execute_result"
    },
    {
     "data": {
      "text/plain": [
       "'make'"
      ]
     },
     "execution_count": 9,
     "metadata": {},
     "output_type": "execute_result"
    },
    {
     "data": {
      "text/plain": [
       "'her'"
      ]
     },
     "execution_count": 9,
     "metadata": {},
     "output_type": "execute_result"
    },
    {
     "data": {
      "text/plain": [
       "'own'"
      ]
     },
     "execution_count": 9,
     "metadata": {},
     "output_type": "execute_result"
    },
    {
     "data": {
      "text/plain": [
       "'ice'"
      ]
     },
     "execution_count": 9,
     "metadata": {},
     "output_type": "execute_result"
    },
    {
     "data": {
      "text/plain": [
       "'cream'"
      ]
     },
     "execution_count": 9,
     "metadata": {},
     "output_type": "execute_result"
    },
    {
     "data": {
      "text/plain": [
       "'.'"
      ]
     },
     "execution_count": 9,
     "metadata": {},
     "output_type": "execute_result"
    },
    {
     "data": {
      "text/plain": [
       "'i'"
      ]
     },
     "execution_count": 9,
     "metadata": {},
     "output_type": "execute_result"
    },
    {
     "data": {
      "text/plain": [
       "'was'"
      ]
     },
     "execution_count": 9,
     "metadata": {},
     "output_type": "execute_result"
    },
    {
     "data": {
      "text/plain": [
       "'hoping'"
      ]
     },
     "execution_count": 9,
     "metadata": {},
     "output_type": "execute_result"
    },
    {
     "data": {
      "text/plain": [
       "'there'"
      ]
     },
     "execution_count": 9,
     "metadata": {},
     "output_type": "execute_result"
    },
    {
     "data": {
      "text/plain": [
       "'were'"
      ]
     },
     "execution_count": 9,
     "metadata": {},
     "output_type": "execute_result"
    },
    {
     "data": {
      "text/plain": [
       "'more'"
      ]
     },
     "execution_count": 9,
     "metadata": {},
     "output_type": "execute_result"
    },
    {
     "data": {
      "text/plain": [
       "'where'"
      ]
     },
     "execution_count": 9,
     "metadata": {},
     "output_type": "execute_result"
    },
    {
     "data": {
      "text/plain": [
       "'those'"
      ]
     },
     "execution_count": 9,
     "metadata": {},
     "output_type": "execute_result"
    },
    {
     "data": {
      "text/plain": [
       "'came'"
      ]
     },
     "execution_count": 9,
     "metadata": {},
     "output_type": "execute_result"
    },
    {
     "data": {
      "text/plain": [
       "'from'"
      ]
     },
     "execution_count": 9,
     "metadata": {},
     "output_type": "execute_result"
    },
    {
     "data": {
      "text/plain": [
       "'.'"
      ]
     },
     "execution_count": 9,
     "metadata": {},
     "output_type": "execute_result"
    },
    {
     "data": {
      "text/plain": [
       "'this'"
      ]
     },
     "execution_count": 9,
     "metadata": {},
     "output_type": "execute_result"
    },
    {
     "data": {
      "text/plain": [
       "'book'"
      ]
     },
     "execution_count": 9,
     "metadata": {},
     "output_type": "execute_result"
    },
    {
     "data": {
      "text/plain": [
       "'emphasizes'"
      ]
     },
     "execution_count": 9,
     "metadata": {},
     "output_type": "execute_result"
    },
    {
     "data": {
      "text/plain": [
       "'very'"
      ]
     },
     "execution_count": 9,
     "metadata": {},
     "output_type": "execute_result"
    },
    {
     "data": {
      "text/plain": [
       "'sweet'"
      ]
     },
     "execution_count": 9,
     "metadata": {},
     "output_type": "execute_result"
    },
    {
     "data": {
      "text/plain": [
       "'dessert'"
      ]
     },
     "execution_count": 9,
     "metadata": {},
     "output_type": "execute_result"
    },
    {
     "data": {
      "text/plain": [
       "'pops'"
      ]
     },
     "execution_count": 9,
     "metadata": {},
     "output_type": "execute_result"
    },
    {
     "data": {
      "text/plain": [
       "'.'"
      ]
     },
     "execution_count": 9,
     "metadata": {},
     "output_type": "execute_result"
    },
    {
     "data": {
      "text/plain": [
       "'however'"
      ]
     },
     "execution_count": 9,
     "metadata": {},
     "output_type": "execute_result"
    },
    {
     "data": {
      "text/plain": [
       "'.'"
      ]
     },
     "execution_count": 9,
     "metadata": {},
     "output_type": "execute_result"
    },
    {
     "data": {
      "text/plain": [
       "'there'"
      ]
     },
     "execution_count": 9,
     "metadata": {},
     "output_type": "execute_result"
    },
    {
     "data": {
      "text/plain": [
       "'are'"
      ]
     },
     "execution_count": 9,
     "metadata": {},
     "output_type": "execute_result"
    },
    {
     "data": {
      "text/plain": [
       "'41'"
      ]
     },
     "execution_count": 9,
     "metadata": {},
     "output_type": "execute_result"
    },
    {
     "data": {
      "text/plain": [
       "'recipes'"
      ]
     },
     "execution_count": 9,
     "metadata": {},
     "output_type": "execute_result"
    },
    {
     "data": {
      "text/plain": [
       "'in'"
      ]
     },
     "execution_count": 9,
     "metadata": {},
     "output_type": "execute_result"
    },
    {
     "data": {
      "text/plain": [
       "'total'"
      ]
     },
     "execution_count": 9,
     "metadata": {},
     "output_type": "execute_result"
    },
    {
     "data": {
      "text/plain": [
       "'.'"
      ]
     },
     "execution_count": 9,
     "metadata": {},
     "output_type": "execute_result"
    },
    {
     "data": {
      "text/plain": [
       "'only'"
      ]
     },
     "execution_count": 9,
     "metadata": {},
     "output_type": "execute_result"
    },
    {
     "data": {
      "text/plain": [
       "'13'"
      ]
     },
     "execution_count": 9,
     "metadata": {},
     "output_type": "execute_result"
    },
    {
     "data": {
      "text/plain": [
       "'of'"
      ]
     },
     "execution_count": 9,
     "metadata": {},
     "output_type": "execute_result"
    },
    {
     "data": {
      "text/plain": [
       "'which'"
      ]
     },
     "execution_count": 9,
     "metadata": {},
     "output_type": "execute_result"
    },
    {
     "data": {
      "text/plain": [
       "'are'"
      ]
     },
     "execution_count": 9,
     "metadata": {},
     "output_type": "execute_result"
    },
    {
     "data": {
      "text/plain": [
       "'fruit'"
      ]
     },
     "execution_count": 9,
     "metadata": {},
     "output_type": "execute_result"
    },
    {
     "data": {
      "text/plain": [
       "'pops'"
      ]
     },
     "execution_count": 9,
     "metadata": {},
     "output_type": "execute_result"
    },
    {
     "data": {
      "text/plain": [
       "'.'"
      ]
     },
     "execution_count": 9,
     "metadata": {},
     "output_type": "execute_result"
    },
    {
     "data": {
      "text/plain": [
       "'there'"
      ]
     },
     "execution_count": 9,
     "metadata": {},
     "output_type": "execute_result"
    },
    {
     "data": {
      "text/plain": [
       "'is'"
      ]
     },
     "execution_count": 9,
     "metadata": {},
     "output_type": "execute_result"
    },
    {
     "data": {
      "text/plain": [
       "'a'"
      ]
     },
     "execution_count": 9,
     "metadata": {},
     "output_type": "execute_result"
    },
    {
     "data": {
      "text/plain": [
       "'\"'"
      ]
     },
     "execution_count": 9,
     "metadata": {},
     "output_type": "execute_result"
    },
    {
     "data": {
      "text/plain": [
       "'fresh'"
      ]
     },
     "execution_count": 9,
     "metadata": {},
     "output_type": "execute_result"
    },
    {
     "data": {
      "text/plain": [
       "'and'"
      ]
     },
     "execution_count": 9,
     "metadata": {},
     "output_type": "execute_result"
    },
    {
     "data": {
      "text/plain": [
       "'fruity'"
      ]
     },
     "execution_count": 9,
     "metadata": {},
     "output_type": "execute_result"
    },
    {
     "data": {
      "text/plain": [
       "'\"'"
      ]
     },
     "execution_count": 9,
     "metadata": {},
     "output_type": "execute_result"
    },
    {
     "data": {
      "text/plain": [
       "'chapter'"
      ]
     },
     "execution_count": 9,
     "metadata": {},
     "output_type": "execute_result"
    }
   ],
   "source": [
    "for j in range(0,100):\n",
    "    wsplit_pos[j]"
   ]
  },
  {
   "cell_type": "markdown",
   "metadata": {},
   "source": [
    "# 2. Removing Special Characters"
   ]
  },
  {
   "cell_type": "markdown",
   "metadata": {},
   "source": [
    "## Converted list to dataframe for splitting later using sklearn"
   ]
  },
  {
   "cell_type": "code",
   "execution_count": 10,
   "metadata": {},
   "outputs": [
    {
     "data": {
      "text/plain": [
       "(7100146, 1)"
      ]
     },
     "execution_count": 10,
     "metadata": {},
     "output_type": "execute_result"
    },
    {
     "data": {
      "text/plain": [
       "(7025601, 1)"
      ]
     },
     "execution_count": 10,
     "metadata": {},
     "output_type": "execute_result"
    }
   ],
   "source": [
    "neg_df = pd.DataFrame({'col':wsplit_neg})\n",
    "neg_df.shape\n",
    "pos_df = pd.DataFrame({'col':wsplit_pos})\n",
    "pos_df.shape"
   ]
  },
  {
   "cell_type": "markdown",
   "metadata": {},
   "source": [
    "## Removing special characters from neg and pos"
   ]
  },
  {
   "cell_type": "code",
   "execution_count": 11,
   "metadata": {},
   "outputs": [],
   "source": [
    "sp_neg_df=neg_df['col'].str.replace('[^\\w\\s]','')\n",
    "sp_pos_df=pos_df['col'].str.replace('[^\\w\\s]','')"
   ]
  },
  {
   "cell_type": "markdown",
   "metadata": {},
   "source": [
    "## Verifying result: "
   ]
  },
  {
   "cell_type": "code",
   "execution_count": 12,
   "metadata": {},
   "outputs": [
    {
     "data": {
      "text/plain": [
       "col    &#34;might&#34;\n",
       "Name: 166, dtype: object"
      ]
     },
     "execution_count": 12,
     "metadata": {},
     "output_type": "execute_result"
    },
    {
     "name": "stdout",
     "output_type": "stream",
     "text": [
      "Result: 34might34\n"
     ]
    }
   ],
   "source": [
    "#Actual Word\n",
    "neg_df.loc[166,:]\n",
    "\n",
    "print(\"Result: \"+sp_neg_df[166])"
   ]
  },
  {
   "cell_type": "markdown",
   "metadata": {},
   "source": [
    "# 3. Stopwords Preprocessing"
   ]
  },
  {
   "cell_type": "markdown",
   "metadata": {},
   "source": [
    "## 3.1 With Stopwords Data Set"
   ]
  },
  {
   "cell_type": "code",
   "execution_count": 13,
   "metadata": {},
   "outputs": [],
   "source": [
    "sp_neg_df=pd.DataFrame(sp_neg_df)\n",
    "sp_pos_df=pd.DataFrame(sp_pos_df)"
   ]
  },
  {
   "cell_type": "markdown",
   "metadata": {},
   "source": [
    "## 3.2 Without Stopwords"
   ]
  },
  {
   "cell_type": "markdown",
   "metadata": {},
   "source": [
    "## Stopwords removed for both pos and neg"
   ]
  },
  {
   "cell_type": "code",
   "execution_count": 14,
   "metadata": {},
   "outputs": [],
   "source": [
    "stop = stopwords.words('english')\n",
    "stopword_neg=(sp_neg_df['col']).apply(lambda x: \" \".join(x for x in x.split() if x not in stop))\n",
    "stopword_pos=(sp_pos_df['col']).apply(lambda x: \" \".join(x for x in x.split() if x not in stop))"
   ]
  },
  {
   "cell_type": "markdown",
   "metadata": {},
   "source": [
    "## Dropping empty string rows for both neg and pos "
   ]
  },
  {
   "cell_type": "code",
   "execution_count": 15,
   "metadata": {},
   "outputs": [],
   "source": [
    "#Neg empty strings removed\n",
    "stopword_neg=pd.DataFrame(stopword_neg)\n",
    "stopword_neg['col'].replace('', np.nan, inplace=True)\n",
    "stopword_neg.dropna(subset=['col'], inplace=True)\n",
    "\n",
    "#Pos empty strings removed\n",
    "stopword_pos=pd.DataFrame(stopword_pos)\n",
    "stopword_pos['col'].replace('', np.nan, inplace=True)\n",
    "stopword_pos.dropna(subset=['col'], inplace=True)\n"
   ]
  },
  {
   "cell_type": "markdown",
   "metadata": {},
   "source": [
    "## Verifying results without stopwords for neg and pos\n"
   ]
  },
  {
   "cell_type": "code",
   "execution_count": 16,
   "metadata": {},
   "outputs": [
    {
     "data": {
      "text/html": [
       "<div>\n",
       "<style scoped>\n",
       "    .dataframe tbody tr th:only-of-type {\n",
       "        vertical-align: middle;\n",
       "    }\n",
       "\n",
       "    .dataframe tbody tr th {\n",
       "        vertical-align: top;\n",
       "    }\n",
       "\n",
       "    .dataframe thead th {\n",
       "        text-align: right;\n",
       "    }\n",
       "</style>\n",
       "<table border=\"1\" class=\"dataframe\">\n",
       "  <thead>\n",
       "    <tr style=\"text-align: right;\">\n",
       "      <th></th>\n",
       "      <th>col</th>\n",
       "    </tr>\n",
       "  </thead>\n",
       "  <tbody>\n",
       "    <tr>\n",
       "      <th>1</th>\n",
       "      <td>bought</td>\n",
       "    </tr>\n",
       "    <tr>\n",
       "      <th>5</th>\n",
       "      <td>bought</td>\n",
       "    </tr>\n",
       "    <tr>\n",
       "      <th>7</th>\n",
       "      <td>pop</td>\n",
       "    </tr>\n",
       "    <tr>\n",
       "      <th>8</th>\n",
       "      <td>maker</td>\n",
       "    </tr>\n",
       "    <tr>\n",
       "      <th>13</th>\n",
       "      <td>pop</td>\n",
       "    </tr>\n",
       "  </tbody>\n",
       "</table>\n",
       "</div>"
      ],
      "text/plain": [
       "       col\n",
       "1   bought\n",
       "5   bought\n",
       "7      pop\n",
       "8    maker\n",
       "13     pop"
      ]
     },
     "execution_count": 16,
     "metadata": {},
     "output_type": "execute_result"
    },
    {
     "data": {
      "text/html": [
       "<div>\n",
       "<style scoped>\n",
       "    .dataframe tbody tr th:only-of-type {\n",
       "        vertical-align: middle;\n",
       "    }\n",
       "\n",
       "    .dataframe tbody tr th {\n",
       "        vertical-align: top;\n",
       "    }\n",
       "\n",
       "    .dataframe thead th {\n",
       "        text-align: right;\n",
       "    }\n",
       "</style>\n",
       "<table border=\"1\" class=\"dataframe\">\n",
       "  <thead>\n",
       "    <tr style=\"text-align: right;\">\n",
       "      <th></th>\n",
       "      <th>col</th>\n",
       "    </tr>\n",
       "  </thead>\n",
       "  <tbody>\n",
       "    <tr>\n",
       "      <th>1</th>\n",
       "      <td>daughter</td>\n",
       "    </tr>\n",
       "    <tr>\n",
       "      <th>2</th>\n",
       "      <td>wanted</td>\n",
       "    </tr>\n",
       "    <tr>\n",
       "      <th>4</th>\n",
       "      <td>book</td>\n",
       "    </tr>\n",
       "    <tr>\n",
       "      <th>7</th>\n",
       "      <td>price</td>\n",
       "    </tr>\n",
       "    <tr>\n",
       "      <th>9</th>\n",
       "      <td>amazon</td>\n",
       "    </tr>\n",
       "  </tbody>\n",
       "</table>\n",
       "</div>"
      ],
      "text/plain": [
       "        col\n",
       "1  daughter\n",
       "2    wanted\n",
       "4      book\n",
       "7     price\n",
       "9    amazon"
      ]
     },
     "execution_count": 16,
     "metadata": {},
     "output_type": "execute_result"
    }
   ],
   "source": [
    "stopword_neg.head()\n",
    "stopword_pos.head()"
   ]
  },
  {
   "cell_type": "markdown",
   "metadata": {},
   "source": [
    "# 4. Data Splitting (Training(80%), Validation(10%) and Test (10%) set)"
   ]
  },
  {
   "cell_type": "markdown",
   "metadata": {},
   "source": [
    "## Data Splitting for Neg (With and Without Stopwords)"
   ]
  },
  {
   "cell_type": "markdown",
   "metadata": {},
   "source": [
    "### A. With Stopwords"
   ]
  },
  {
   "cell_type": "code",
   "execution_count": 17,
   "metadata": {},
   "outputs": [],
   "source": [
    "from sklearn.model_selection import train_test_split\n",
    "X_train_neg_s, X_test_neg_s = train_test_split(\n",
    "    sp_neg_df, test_size=0.1, random_state=1)\n",
    "X_train_neg_s, X_val_neg_s = train_test_split(\n",
    "    X_train_neg_s, test_size=0.111111, random_state=1)"
   ]
  },
  {
   "cell_type": "markdown",
   "metadata": {},
   "source": [
    "### Verifying Counts"
   ]
  },
  {
   "cell_type": "code",
   "execution_count": 18,
   "metadata": {},
   "outputs": [
    {
     "data": {
      "text/plain": [
       "(7100146, 1)"
      ]
     },
     "execution_count": 18,
     "metadata": {},
     "output_type": "execute_result"
    },
    {
     "data": {
      "text/plain": [
       "(5680117, 1)"
      ]
     },
     "execution_count": 18,
     "metadata": {},
     "output_type": "execute_result"
    },
    {
     "name": "stdout",
     "output_type": "stream",
     "text": [
      "Training: 0.8\n"
     ]
    },
    {
     "data": {
      "text/plain": [
       "(710015, 1)"
      ]
     },
     "execution_count": 18,
     "metadata": {},
     "output_type": "execute_result"
    },
    {
     "name": "stdout",
     "output_type": "stream",
     "text": [
      "Test: 0.1\n"
     ]
    },
    {
     "data": {
      "text/plain": [
       "(710014, 1)"
      ]
     },
     "execution_count": 18,
     "metadata": {},
     "output_type": "execute_result"
    },
    {
     "name": "stdout",
     "output_type": "stream",
     "text": [
      "Validation: 0.1\n"
     ]
    }
   ],
   "source": [
    "sp_neg_df.shape\n",
    "X_train_neg_s.shape\n",
    "\n",
    "print(\"Training: \"+ str(round(5680117/7100146,3)))\n",
    "\n",
    "X_test_neg_s.shape\n",
    "print(\"Test: \"+ str(round(710015/7100146,3)))\n",
    "\n",
    "X_val_neg_s.shape\n",
    "print(\"Validation: \"+ str(round(710014/7100146,4)))"
   ]
  },
  {
   "cell_type": "markdown",
   "metadata": {},
   "source": [
    "### B. Without Stopwords"
   ]
  },
  {
   "cell_type": "code",
   "execution_count": 19,
   "metadata": {},
   "outputs": [],
   "source": [
    "from sklearn.model_selection import train_test_split\n",
    "X_train_neg, X_test_neg = train_test_split(\n",
    "    stopword_neg, test_size=0.1, random_state=1)\n",
    "X_train_neg, X_val_neg = train_test_split(\n",
    "    X_train_neg, test_size=0.111111, random_state=1)"
   ]
  },
  {
   "cell_type": "markdown",
   "metadata": {},
   "source": [
    "## Data Splitting for Pos (With and Without Stopwords)"
   ]
  },
  {
   "cell_type": "markdown",
   "metadata": {},
   "source": [
    "### A. With Stopwords"
   ]
  },
  {
   "cell_type": "code",
   "execution_count": 20,
   "metadata": {},
   "outputs": [],
   "source": [
    "from sklearn.model_selection import train_test_split\n",
    "X_train_pos_s, X_test_pos_s = train_test_split(\n",
    "    sp_pos_df, test_size=0.1, random_state=1)\n",
    "X_train_pos_s, X_val_pos_s = train_test_split(\n",
    "    X_train_pos_s, test_size=0.111111, random_state=1)"
   ]
  },
  {
   "cell_type": "markdown",
   "metadata": {},
   "source": [
    "### B. Without Stopwords"
   ]
  },
  {
   "cell_type": "code",
   "execution_count": 21,
   "metadata": {},
   "outputs": [],
   "source": [
    "from sklearn.model_selection import train_test_split\n",
    "X_train_pos, X_test_pos = train_test_split(\n",
    "    stopword_pos, test_size=0.1, random_state=1)\n",
    "X_train_pos, X_val_pos = train_test_split(\n",
    "    X_train_pos, test_size=0.111111, random_state=1)"
   ]
  },
  {
   "cell_type": "markdown",
   "metadata": {},
   "source": [
    "# Saving to Files"
   ]
  },
  {
   "cell_type": "code",
   "execution_count": 27,
   "metadata": {},
   "outputs": [],
   "source": [
    "spwords=[]\n",
    "def emptystring(lists):\n",
    "    spwords=pd.DataFrame(lists)\n",
    "    spwords['col'].replace('', np.nan, inplace=True)\n",
    "    spwords.dropna(subset=['col'], inplace=True)\n",
    "    return spwords\n",
    "    \n",
    "X_train_pos_s=emptystring(X_train_pos_s)\n",
    "X_test_pos_s=emptystring(X_test_pos_s)\n",
    "X_val_pos_s=emptystring(X_val_pos_s)\n",
    "    \n",
    "X_train_pos=emptystring(X_train_pos)\n",
    "X_val_pos=emptystring(X_val_pos)\n",
    "X_test_pos=emptystring(X_test_pos)\n",
    "\n",
    "\n",
    "X_train_neg=emptystring(X_train_neg)\n",
    "X_val_neg=emptystring(X_val_neg)\n",
    "X_test_neg=emptystring(X_test_neg)\n",
    "    \n",
    "X_train_neg_s=emptystring(X_train_neg_s)\n",
    "X_val_neg_s=emptystring(X_val_neg_s)\n",
    "X_test_neg_s=emptystring(X_test_neg_s)"
   ]
  },
  {
   "cell_type": "code",
   "execution_count": 28,
   "metadata": {},
   "outputs": [],
   "source": [
    "#POS Files No Stopwords\n",
    "np.savetxt(\"train_no_stopword_pos.csv\", X_train_pos,delimiter=\",\", fmt='%s')\n",
    "np.savetxt(\"val_no_stopword_pos.csv\", X_val_pos,delimiter=\",\", fmt='%s')\n",
    "np.savetxt(\"test_no_stopword_pos.csv\", X_test_pos, delimiter=\",\", fmt='%s')\n",
    "\n",
    "#POS Files Stopwords\n",
    "np.savetxt(\"train_pos.csv\", X_train_pos_s,delimiter=\",\", fmt='%s')\n",
    "np.savetxt(\"val_pos.csv\", X_val_pos_s,delimiter=\",\", fmt='%s')\n",
    "np.savetxt(\"test_pos.csv\", X_test_pos_s, delimiter=\",\", fmt='%s')"
   ]
  },
  {
   "cell_type": "code",
   "execution_count": 29,
   "metadata": {},
   "outputs": [],
   "source": [
    "#Neg Files No Stopwords\n",
    "np.savetxt(\"train_no_stopword_neg.csv\", X_train_neg,delimiter=\",\", fmt='%s')\n",
    "np.savetxt(\"val_no_stopword_neg.csv\", X_val_neg,delimiter=\",\", fmt='%s')\n",
    "np.savetxt(\"test_no_stopword_neg.csv\", X_test_neg, delimiter=\",\", fmt='%s')\n",
    "\n",
    "#Neg Files Stopwords\n",
    "np.savetxt(\"train_neg.csv\", X_train_neg_s,delimiter=\",\", fmt='%s')\n",
    "np.savetxt(\"val_neg.csv\", X_val_neg_s,delimiter=\",\", fmt='%s')\n",
    "np.savetxt(\"test_neg.csv\", X_test_neg_s, delimiter=\",\", fmt='%s')"
   ]
  }
 ],
 "metadata": {
  "kernelspec": {
   "display_name": "Python 3",
   "language": "python",
   "name": "python3"
  },
  "language_info": {
   "codemirror_mode": {
    "name": "ipython",
    "version": 3
   },
   "file_extension": ".py",
   "mimetype": "text/x-python",
   "name": "python",
   "nbconvert_exporter": "python",
   "pygments_lexer": "ipython3",
   "version": "3.6.4"
  }
 },
 "nbformat": 4,
 "nbformat_minor": 2
}
