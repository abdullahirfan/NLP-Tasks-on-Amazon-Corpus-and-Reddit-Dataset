{
 "cells": [
  {
   "cell_type": "code",
   "execution_count": 1,
   "metadata": {},
   "outputs": [],
   "source": [
    "import numpy as np\n",
    "import scipy as sc\n",
    "import gensim as g\n",
    "import pandas as pd\n",
    "from IPython.core.interactiveshell import InteractiveShell\n",
    "InteractiveShell.ast_node_interactivity = \"all\"\n",
    "from nltk.corpus import stopwords\n",
    "from nltk.tokenize import word_tokenize\n",
    "from nltk.tokenize import sent_tokenize\n",
    "import re\n",
    "import csv\n",
    "from sklearn.naive_bayes import MultinomialNB"
   ]
  },
  {
   "cell_type": "code",
   "execution_count": 2,
   "metadata": {},
   "outputs": [],
   "source": [
    "import csv\n",
    "with open(\"C:/Users/User/Documents/Python Scripts/NLP/pos_files/training_pos.csv\") as f:\n",
    "    reader = csv.reader(f)\n",
    "    stopwords_train_pos = []\n",
    "    for row in reader:\n",
    "        stopwords_train_pos.append(row)\n",
    "        \n",
    "with open(\"C:/Users/User/Documents/Python Scripts/NLP/neg_files/training_neg.csv\") as f:\n",
    "    reader = csv.reader(f)\n",
    "    stopwords_train_neg = []\n",
    "    for row in reader:\n",
    "        stopwords_train_neg.append(row)"
   ]
  },
  {
   "cell_type": "code",
   "execution_count": 3,
   "metadata": {},
   "outputs": [],
   "source": [
    "for j in range(len(stopwords_train_pos)):\n",
    "    for i in range(len(stopwords_train_pos[j])):\n",
    "        stopwords_train_pos[j][i]=stopwords_train_pos[j][i].replace(\"['\",\"\")\n",
    "        stopwords_train_pos[j][i]=stopwords_train_pos[j][i].replace(\"'\",\"\")\n",
    "        #stopwords_train_pos[j][i]=stopwords_train_pos[j][i].replace(\" '\",\"\")\n",
    "        stopwords_train_pos[j][i]=stopwords_train_pos[j][i].replace(\"']\",\"\")\n",
    "        stopwords_train_pos[j][i]=stopwords_train_pos[j][i].strip()"
   ]
  },
  {
   "cell_type": "code",
   "execution_count": 4,
   "metadata": {},
   "outputs": [],
   "source": [
    "for j in range(len(stopwords_train_neg)):\n",
    "    for i in range(len(stopwords_train_neg[j])):\n",
    "        stopwords_train_neg[j][i]=stopwords_train_neg[j][i].replace(\"['\",\"\")\n",
    "        stopwords_train_neg[j][i]=stopwords_train_neg[j][i].replace(\"'\",\"\")\n",
    "        #stopwords_train_neg[j][i]=stopwords_train_neg[j][i].replace(\" '\",\"\")\n",
    "        stopwords_train_neg[j][i]=stopwords_train_neg[j][i].replace(\"']\",\"\")\n",
    "        stopwords_train_neg[j][i]=stopwords_train_neg[j][i].replace(\"]\",\"\")\n",
    "        stopwords_train_neg[j][i]=stopwords_train_neg[j][i].strip()"
   ]
  },
  {
   "cell_type": "code",
   "execution_count": 16,
   "metadata": {},
   "outputs": [],
   "source": [
    "corpus=stopwords_train_neg+stopwords_train_pos"
   ]
  },
  {
   "cell_type": "code",
   "execution_count": 18,
   "metadata": {},
   "outputs": [
    {
     "name": "stdout",
     "output_type": "stream",
     "text": [
      "Words similar to Good:\n"
     ]
    },
    {
     "data": {
      "text/plain": [
       "[('decent', 0.8335956931114197),\n",
       " ('great', 0.8041790723800659),\n",
       " ('fantastic', 0.7768076658248901),\n",
       " ('nice', 0.769061803817749),\n",
       " ('wonderful', 0.7291721105575562),\n",
       " ('terrific', 0.7052485942840576),\n",
       " ('superb', 0.6923707127571106),\n",
       " ('fabulous', 0.6892805695533752),\n",
       " ('bad', 0.6468065977096558),\n",
       " ('terrible', 0.6455273628234863),\n",
       " ('excellent', 0.6408483982086182),\n",
       " ('amazing', 0.630419909954071),\n",
       " ('reasonable', 0.626826822757721),\n",
       " ('impressive', 0.6250725984573364),\n",
       " ('poor', 0.621780276298523),\n",
       " ('alright', 0.6173337697982788),\n",
       " ('awesome', 0.6122826337814331),\n",
       " ('neat', 0.6076062321662903),\n",
       " ('pleasant', 0.6048499345779419),\n",
       " ('fair', 0.5998889803886414)]"
      ]
     },
     "execution_count": 18,
     "metadata": {},
     "output_type": "execute_result"
    },
    {
     "name": "stdout",
     "output_type": "stream",
     "text": [
      "Words similar to Bad:\n"
     ]
    },
    {
     "data": {
      "text/plain": [
       "[('horrible', 0.7000734806060791),\n",
       " ('terrible', 0.6914061307907104),\n",
       " ('good', 0.6468067169189453),\n",
       " ('strange', 0.6216304302215576),\n",
       " ('awful', 0.6159312725067139),\n",
       " ('funny', 0.6137183904647827),\n",
       " ('weird', 0.5836063623428345),\n",
       " ('loud', 0.5816807746887207),\n",
       " ('poor', 0.5714210271835327),\n",
       " ('weak', 0.5691614151000977),\n",
       " ('stupid', 0.5676550269126892),\n",
       " ('lame', 0.5551433563232422),\n",
       " ('scary', 0.5485724210739136),\n",
       " ('sad', 0.5480510592460632),\n",
       " ('gross', 0.545748233795166),\n",
       " ('obvious', 0.5432008504867554),\n",
       " ('cheap', 0.5372920036315918),\n",
       " ('harsh', 0.53378826379776),\n",
       " ('shabby', 0.5260896682739258),\n",
       " ('nasty', 0.5188787579536438)]"
      ]
     },
     "execution_count": 18,
     "metadata": {},
     "output_type": "execute_result"
    }
   ],
   "source": [
    "from gensim.models import Word2Vec\n",
    "\n",
    "word2vec = Word2Vec(corpus, min_count=3)\n",
    "print('Words similar to Good:')\n",
    "word2vec.wv.most_similar(\"good\", topn=20)\n",
    "print('Words similar to Bad:')\n",
    "word2vec.wv.most_similar(\"bad\", topn=20)"
   ]
  }
 ],
 "metadata": {
  "kernelspec": {
   "display_name": "Python 3",
   "language": "python",
   "name": "python3"
  },
  "language_info": {
   "codemirror_mode": {
    "name": "ipython",
    "version": 3
   },
   "file_extension": ".py",
   "mimetype": "text/x-python",
   "name": "python",
   "nbconvert_exporter": "python",
   "pygments_lexer": "ipython3",
   "version": "3.6.4"
  }
 },
 "nbformat": 4,
 "nbformat_minor": 2
}
