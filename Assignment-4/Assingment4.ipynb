{
  "nbformat": 4,
  "nbformat_minor": 0,
  "metadata": {
    "colab": {
      "name": "Assingment4.ipynb",
      "version": "0.3.2",
      "provenance": [],
      "collapsed_sections": []
    },
    "language_info": {
      "codemirror_mode": {
        "name": "ipython",
        "version": 3
      },
      "file_extension": ".py",
      "mimetype": "text/x-python",
      "name": "python",
      "nbconvert_exporter": "python",
      "pygments_lexer": "ipython3",
      "version": "3.6.4"
    },
    "kernelspec": {
      "name": "python3",
      "display_name": "Python 3"
    },
    "accelerator": "TPU"
  },
  "cells": [
    {
      "cell_type": "code",
      "metadata": {
        "id": "59altdyxmbtX",
        "colab_type": "code",
        "colab": {}
      },
      "source": [
        "import numpy as np\n",
        "import scipy as sc\n",
        "import gensim as g\n",
        "import pandas as pd\n",
        "from IPython.core.interactiveshell import InteractiveShell\n",
        "InteractiveShell.ast_node_interactivity = \"all\"\n",
        "from nltk.corpus import stopwords\n",
        "from nltk.tokenize import word_tokenize\n",
        "from nltk.tokenize import sent_tokenize\n",
        "import re\n",
        "import csv\n",
        "\n",
        "from sklearn.naive_bayes import MultinomialNB\n",
        "from sklearn.model_selection import train_test_split\n",
        "\n",
        "from keras.models import Sequential\n",
        "from keras.layers import Input, Dense, LSTM, Embedding, Dropout, BatchNormalization, Activation, Bidirectional\n",
        "from keras.preprocessing.text import text_to_word_sequence, Tokenizer\n",
        "from keras.preprocessing.sequence import pad_sequences\n",
        "\n",
        "from IPython.core.interactiveshell import InteractiveShell\n",
        "InteractiveShell.ast_node_interactivity = \"all\"\n",
        "%config IPCompleter.greedy=True\n",
        "from keras.callbacks import EarlyStopping\n",
        "from keras.regularizers import l2\n",
        "from keras import layers\n",
        "from keras.layers import Flatten"
      ],
      "execution_count": 0,
      "outputs": []
    },
    {
      "cell_type": "code",
      "metadata": {
        "id": "OLc2iksWmgav",
        "colab_type": "code",
        "outputId": "1a3989f7-92e8-45bc-b30d-685b40209a53",
        "colab": {
          "resources": {
            "http://localhost:8080/nbextensions/google.colab/files.js": {
              "data": "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",
              "ok": true,
              "headers": [
                [
                  "content-type",
                  "application/javascript"
                ]
              ],
              "status": 200,
              "status_text": ""
            }
          },
          "base_uri": "https://localhost:8080/",
          "height": 160
        }
      },
      "source": [
        "from google.colab import files\n",
        "uploaded = files.upload()\n",
        "\n",
        "from google.colab import files\n",
        "uploaded = files.upload()\n",
        "\n"
      ],
      "execution_count": 8,
      "outputs": [
        {
          "output_type": "display_data",
          "data": {
            "text/html": [
              "\n",
              "     <input type=\"file\" id=\"files-ab147f5b-da2d-428a-a609-3debdb394c60\" name=\"files[]\" multiple disabled />\n",
              "     <output id=\"result-ab147f5b-da2d-428a-a609-3debdb394c60\">\n",
              "      Upload widget is only available when the cell has been executed in the\n",
              "      current browser session. Please rerun this cell to enable.\n",
              "      </output>\n",
              "      <script src=\"/nbextensions/google.colab/files.js\"></script> "
            ],
            "text/plain": [
              "<IPython.core.display.HTML object>"
            ]
          },
          "metadata": {
            "tags": []
          }
        },
        {
          "output_type": "stream",
          "text": [
            "Saving test_neg.csv to test_neg (2).csv\n",
            "Saving train_neg.csv to train_neg (1).csv\n",
            "Saving val_neg.csv to val_neg (1).csv\n"
          ],
          "name": "stdout"
        },
        {
          "output_type": "display_data",
          "data": {
            "text/html": [
              "\n",
              "     <input type=\"file\" id=\"files-2e418edd-25c0-4de4-8706-33a204bfabd5\" name=\"files[]\" multiple disabled />\n",
              "     <output id=\"result-2e418edd-25c0-4de4-8706-33a204bfabd5\">\n",
              "      Upload widget is only available when the cell has been executed in the\n",
              "      current browser session. Please rerun this cell to enable.\n",
              "      </output>\n",
              "      <script src=\"/nbextensions/google.colab/files.js\"></script> "
            ],
            "text/plain": [
              "<IPython.core.display.HTML object>"
            ]
          },
          "metadata": {
            "tags": []
          }
        }
      ]
    },
    {
      "cell_type": "code",
      "metadata": {
        "id": "f0S5rcClfiSs",
        "colab_type": "code",
        "colab": {
          "resources": {
            "http://localhost:8080/nbextensions/google.colab/files.js": {
              "data": "Ly8gQ29weXJpZ2h0IDIwMTcgR29vZ2xlIExMQwovLwovLyBMaWNlbnNlZCB1bmRlciB0aGUgQXBhY2hlIExpY2Vuc2UsIFZlcnNpb24gMi4wICh0aGUgIkxpY2Vuc2UiKTsKLy8geW91IG1heSBub3QgdXNlIHRoaXMgZmlsZSBleGNlcHQgaW4gY29tcGxpYW5jZSB3aXRoIHRoZSBMaWNlbnNlLgovLyBZb3UgbWF5IG9idGFpbiBhIGNvcHkgb2YgdGhlIExpY2Vuc2UgYXQKLy8KLy8gICAgICBodHRwOi8vd3d3LmFwYWNoZS5vcmcvbGljZW5zZXMvTElDRU5TRS0yLjAKLy8KLy8gVW5sZXNzIHJlcXVpcmVkIGJ5IGFwcGxpY2FibGUgbGF3IG9yIGFncmVlZCB0byBpbiB3cml0aW5nLCBzb2Z0d2FyZQovLyBkaXN0cmlidXRlZCB1bmRlciB0aGUgTGljZW5zZSBpcyBkaXN0cmlidXRlZCBvbiBhbiAiQVMgSVMiIEJBU0lTLAovLyBXSVRIT1VUIFdBUlJBTlRJRVMgT1IgQ09ORElUSU9OUyBPRiBBTlkgS0lORCwgZWl0aGVyIGV4cHJlc3Mgb3IgaW1wbGllZC4KLy8gU2VlIHRoZSBMaWNlbnNlIGZvciB0aGUgc3BlY2lmaWMgbGFuZ3VhZ2UgZ292ZXJuaW5nIHBlcm1pc3Npb25zIGFuZAovLyBsaW1pdGF0aW9ucyB1bmRlciB0aGUgTGljZW5zZS4KCi8qKgogKiBAZmlsZW92ZXJ2aWV3IEhlbHBlcnMgZm9yIGdvb2dsZS5jb2xhYiBQeXRob24gbW9kdWxlLgogKi8KKGZ1bmN0aW9uKHNjb3BlKSB7CmZ1bmN0aW9uIHNwYW4odGV4dCwgc3R5bGVBdHRyaWJ1dGVzID0ge30pIHsKICBjb25zdCBlbGVtZW50ID0gZG9jdW1lbnQuY3JlYXRlRWxlbWVudCgnc3BhbicpOwogIGVsZW1lbnQudGV4dENvbnRlbnQgPSB0ZXh0OwogIGZvciAoY29uc3Qga2V5IG9mIE9iamVjdC5rZXlzKHN0eWxlQXR0cmlidXRlcykpIHsKICAgIGVsZW1lbnQuc3R5bGVba2V5XSA9IHN0eWxlQXR0cmlidXRlc1trZXldOwogIH0KICByZXR1cm4gZWxlbWVudDsKfQoKLy8gTWF4IG51bWJlciBvZiBieXRlcyB3aGljaCB3aWxsIGJlIHVwbG9hZGVkIGF0IGEgdGltZS4KY29uc3QgTUFYX1BBWUxPQURfU0laRSA9IDEwMCAqIDEwMjQ7Ci8vIE1heCBhbW91bnQgb2YgdGltZSB0byBibG9jayB3YWl0aW5nIGZvciB0aGUgdXNlci4KY29uc3QgRklMRV9DSEFOR0VfVElNRU9VVF9NUyA9IDMwICogMTAwMDsKCmZ1bmN0aW9uIF91cGxvYWRGaWxlcyhpbnB1dElkLCBvdXRwdXRJZCkgewogIGNvbnN0IHN0ZXBzID0gdXBsb2FkRmlsZXNTdGVwKGlucHV0SWQsIG91dHB1dElkKTsKICBjb25zdCBvdXRwdXRFbGVtZW50ID0gZG9jdW1lbnQuZ2V0RWxlbWVudEJ5SWQob3V0cHV0SWQpOwogIC8vIENhY2hlIHN0ZXBzIG9uIHRoZSBvdXRwdXRFbGVtZW50IHRvIG1ha2UgaXQgYXZhaWxhYmxlIGZvciB0aGUgbmV4dCBjYWxsCiAgLy8gdG8gdXBsb2FkRmlsZXNDb250aW51ZSBmcm9tIFB5dGhvbi4KICBvdXRwdXRFbGVtZW50LnN0ZXBzID0gc3RlcHM7CgogIHJldHVybiBfdXBsb2FkRmlsZXNDb250aW51ZShvdXRwdXRJZCk7Cn0KCi8vIFRoaXMgaXMgcm91Z2hseSBhbiBhc3luYyBnZW5lcmF0b3IgKG5vdCBzdXBwb3J0ZWQgaW4gdGhlIGJyb3dzZXIgeWV0KSwKLy8gd2hlcmUgdGhlcmUgYXJlIG11bHRpcGxlIGFzeW5jaHJvbm91cyBzdGVwcyBhbmQgdGhlIFB5dGhvbiBzaWRlIGlzIGdvaW5nCi8vIHRvIHBvbGwgZm9yIGNvbXBsZXRpb24gb2YgZWFjaCBzdGVwLgovLyBUaGlzIHVzZXMgYSBQcm9taXNlIHRvIGJsb2NrIHRoZSBweXRob24gc2lkZSBvbiBjb21wbGV0aW9uIG9mIGVhY2ggc3RlcCwKLy8gdGhlbiBwYXNzZXMgdGhlIHJlc3VsdCBvZiB0aGUgcHJldmlvdXMgc3RlcCBhcyB0aGUgaW5wdXQgdG8gdGhlIG5leHQgc3RlcC4KZnVuY3Rpb24gX3VwbG9hZEZpbGVzQ29udGludWUob3V0cHV0SWQpIHsKICBjb25zdCBvdXRwdXRFbGVtZW50ID0gZG9jdW1lbnQuZ2V0RWxlbWVudEJ5SWQob3V0cHV0SWQpOwogIGNvbnN0IHN0ZXBzID0gb3V0cHV0RWxlbWVudC5zdGVwczsKCiAgY29uc3QgbmV4dCA9IHN0ZXBzLm5leHQob3V0cHV0RWxlbWVudC5sYXN0UHJvbWlzZVZhbHVlKTsKICByZXR1cm4gUHJvbWlzZS5yZXNvbHZlKG5leHQudmFsdWUucHJvbWlzZSkudGhlbigodmFsdWUpID0+IHsKICAgIC8vIENhY2hlIHRoZSBsYXN0IHByb21pc2UgdmFsdWUgdG8gbWFrZSBpdCBhdmFpbGFibGUgdG8gdGhlIG5leHQKICAgIC8vIHN0ZXAgb2YgdGhlIGdlbmVyYXRvci4KICAgIG91dHB1dEVsZW1lbnQubGFzdFByb21pc2VWYWx1ZSA9IHZhbHVlOwogICAgcmV0dXJuIG5leHQudmFsdWUucmVzcG9uc2U7CiAgfSk7Cn0KCi8qKgogKiBHZW5lcmF0b3IgZnVuY3Rpb24gd2hpY2ggaXMgY2FsbGVkIGJldHdlZW4gZWFjaCBhc3luYyBzdGVwIG9mIHRoZSB1cGxvYWQKICogcHJvY2Vzcy4KICogQHBhcmFtIHtzdHJpbmd9IGlucHV0SWQgRWxlbWVudCBJRCBvZiB0aGUgaW5wdXQgZmlsZSBwaWNrZXIgZWxlbWVudC4KICogQHBhcmFtIHtzdHJpbmd9IG91dHB1dElkIEVsZW1lbnQgSUQgb2YgdGhlIG91dHB1dCBkaXNwbGF5LgogKiBAcmV0dXJuIHshSXRlcmFibGU8IU9iamVjdD59IEl0ZXJhYmxlIG9mIG5leHQgc3RlcHMuCiAqLwpmdW5jdGlvbiogdXBsb2FkRmlsZXNTdGVwKGlucHV0SWQsIG91dHB1dElkKSB7CiAgY29uc3QgaW5wdXRFbGVtZW50ID0gZG9jdW1lbnQuZ2V0RWxlbWVudEJ5SWQoaW5wdXRJZCk7CiAgaW5wdXRFbGVtZW50LmRpc2FibGVkID0gZmFsc2U7CgogIGNvbnN0IG91dHB1dEVsZW1lbnQgPSBkb2N1bWVudC5nZXRFbGVtZW50QnlJZChvdXRwdXRJZCk7CiAgb3V0cHV0RWxlbWVudC5pbm5lckhUTUwgPSAnJzsKCiAgY29uc3QgcGlja2VkUHJvbWlzZSA9IG5ldyBQcm9taXNlKChyZXNvbHZlKSA9PiB7CiAgICBpbnB1dEVsZW1lbnQuYWRkRXZlbnRMaXN0ZW5lcignY2hhbmdlJywgKGUpID0+IHsKICAgICAgcmVzb2x2ZShlLnRhcmdldC5maWxlcyk7CiAgICB9KTsKICB9KTsKCiAgY29uc3QgY2FuY2VsID0gZG9jdW1lbnQuY3JlYXRlRWxlbWVudCgnYnV0dG9uJyk7CiAgaW5wdXRFbGVtZW50LnBhcmVudEVsZW1lbnQuYXBwZW5kQ2hpbGQoY2FuY2VsKTsKICBjYW5jZWwudGV4dENvbnRlbnQgPSAnQ2FuY2VsIHVwbG9hZCc7CiAgY29uc3QgY2FuY2VsUHJvbWlzZSA9IG5ldyBQcm9taXNlKChyZXNvbHZlKSA9PiB7CiAgICBjYW5jZWwub25jbGljayA9ICgpID0+IHsKICAgICAgcmVzb2x2ZShudWxsKTsKICAgIH07CiAgfSk7CgogIC8vIENhbmNlbCB1cGxvYWQgaWYgdXNlciBoYXNuJ3QgcGlja2VkIGFueXRoaW5nIGluIHRpbWVvdXQuCiAgY29uc3QgdGltZW91dFByb21pc2UgPSBuZXcgUHJvbWlzZSgocmVzb2x2ZSkgPT4gewogICAgc2V0VGltZW91dCgoKSA9PiB7CiAgICAgIHJlc29sdmUobnVsbCk7CiAgICB9LCBGSUxFX0NIQU5HRV9USU1FT1VUX01TKTsKICB9KTsKCiAgLy8gV2FpdCBmb3IgdGhlIHVzZXIgdG8gcGljayB0aGUgZmlsZXMuCiAgY29uc3QgZmlsZXMgPSB5aWVsZCB7CiAgICBwcm9taXNlOiBQcm9taXNlLnJhY2UoW3BpY2tlZFByb21pc2UsIHRpbWVvdXRQcm9taXNlLCBjYW5jZWxQcm9taXNlXSksCiAgICByZXNwb25zZTogewogICAgICBhY3Rpb246ICdzdGFydGluZycsCiAgICB9CiAgfTsKCiAgaWYgKCFmaWxlcykgewogICAgcmV0dXJuIHsKICAgICAgcmVzcG9uc2U6IHsKICAgICAgICBhY3Rpb246ICdjb21wbGV0ZScsCiAgICAgIH0KICAgIH07CiAgfQoKICBjYW5jZWwucmVtb3ZlKCk7CgogIC8vIERpc2FibGUgdGhlIGlucHV0IGVsZW1lbnQgc2luY2UgZnVydGhlciBwaWNrcyBhcmUgbm90IGFsbG93ZWQuCiAgaW5wdXRFbGVtZW50LmRpc2FibGVkID0gdHJ1ZTsKCiAgZm9yIChjb25zdCBmaWxlIG9mIGZpbGVzKSB7CiAgICBjb25zdCBsaSA9IGRvY3VtZW50LmNyZWF0ZUVsZW1lbnQoJ2xpJyk7CiAgICBsaS5hcHBlbmQoc3BhbihmaWxlLm5hbWUsIHtmb250V2VpZ2h0OiAnYm9sZCd9KSk7CiAgICBsaS5hcHBlbmQoc3BhbigKICAgICAgICBgKCR7ZmlsZS50eXBlIHx8ICduL2EnfSkgLSAke2ZpbGUuc2l6ZX0gYnl0ZXMsIGAgKwogICAgICAgIGBsYXN0IG1vZGlmaWVkOiAkewogICAgICAgICAgICBmaWxlLmxhc3RNb2RpZmllZERhdGUgPyBmaWxlLmxhc3RNb2RpZmllZERhdGUudG9Mb2NhbGVEYXRlU3RyaW5nKCkgOgogICAgICAgICAgICAgICAgICAgICAgICAgICAgICAgICAgICAnbi9hJ30gLSBgKSk7CiAgICBjb25zdCBwZXJjZW50ID0gc3BhbignMCUgZG9uZScpOwogICAgbGkuYXBwZW5kQ2hpbGQocGVyY2VudCk7CgogICAgb3V0cHV0RWxlbWVudC5hcHBlbmRDaGlsZChsaSk7CgogICAgY29uc3QgZmlsZURhdGFQcm9taXNlID0gbmV3IFByb21pc2UoKHJlc29sdmUpID0+IHsKICAgICAgY29uc3QgcmVhZGVyID0gbmV3IEZpbGVSZWFkZXIoKTsKICAgICAgcmVhZGVyLm9ubG9hZCA9IChlKSA9PiB7CiAgICAgICAgcmVzb2x2ZShlLnRhcmdldC5yZXN1bHQpOwogICAgICB9OwogICAgICByZWFkZXIucmVhZEFzQXJyYXlCdWZmZXIoZmlsZSk7CiAgICB9KTsKICAgIC8vIFdhaXQgZm9yIHRoZSBkYXRhIHRvIGJlIHJlYWR5LgogICAgbGV0IGZpbGVEYXRhID0geWllbGQgewogICAgICBwcm9taXNlOiBmaWxlRGF0YVByb21pc2UsCiAgICAgIHJlc3BvbnNlOiB7CiAgICAgICAgYWN0aW9uOiAnY29udGludWUnLAogICAgICB9CiAgICB9OwoKICAgIC8vIFVzZSBhIGNodW5rZWQgc2VuZGluZyB0byBhdm9pZCBtZXNzYWdlIHNpemUgbGltaXRzLiBTZWUgYi82MjExNTY2MC4KICAgIGxldCBwb3NpdGlvbiA9IDA7CiAgICB3aGlsZSAocG9zaXRpb24gPCBmaWxlRGF0YS5ieXRlTGVuZ3RoKSB7CiAgICAgIGNvbnN0IGxlbmd0aCA9IE1hdGgubWluKGZpbGVEYXRhLmJ5dGVMZW5ndGggLSBwb3NpdGlvbiwgTUFYX1BBWUxPQURfU0laRSk7CiAgICAgIGNvbnN0IGNodW5rID0gbmV3IFVpbnQ4QXJyYXkoZmlsZURhdGEsIHBvc2l0aW9uLCBsZW5ndGgpOwogICAgICBwb3NpdGlvbiArPSBsZW5ndGg7CgogICAgICBjb25zdCBiYXNlNjQgPSBidG9hKFN0cmluZy5mcm9tQ2hhckNvZGUuYXBwbHkobnVsbCwgY2h1bmspKTsKICAgICAgeWllbGQgewogICAgICAgIHJlc3BvbnNlOiB7CiAgICAgICAgICBhY3Rpb246ICdhcHBlbmQnLAogICAgICAgICAgZmlsZTogZmlsZS5uYW1lLAogICAgICAgICAgZGF0YTogYmFzZTY0LAogICAgICAgIH0sCiAgICAgIH07CiAgICAgIHBlcmNlbnQudGV4dENvbnRlbnQgPQogICAgICAgICAgYCR7TWF0aC5yb3VuZCgocG9zaXRpb24gLyBmaWxlRGF0YS5ieXRlTGVuZ3RoKSAqIDEwMCl9JSBkb25lYDsKICAgIH0KICB9CgogIC8vIEFsbCBkb25lLgogIHlpZWxkIHsKICAgIHJlc3BvbnNlOiB7CiAgICAgIGFjdGlvbjogJ2NvbXBsZXRlJywKICAgIH0KICB9Owp9CgpzY29wZS5nb29nbGUgPSBzY29wZS5nb29nbGUgfHwge307CnNjb3BlLmdvb2dsZS5jb2xhYiA9IHNjb3BlLmdvb2dsZS5jb2xhYiB8fCB7fTsKc2NvcGUuZ29vZ2xlLmNvbGFiLl9maWxlcyA9IHsKICBfdXBsb2FkRmlsZXMsCiAgX3VwbG9hZEZpbGVzQ29udGludWUsCn07Cn0pKHNlbGYpOwo=",
              "ok": true,
              "headers": [
                [
                  "content-type",
                  "application/javascript"
                ]
              ],
              "status": 200,
              "status_text": ""
            }
          },
          "base_uri": "https://localhost:8080/",
          "height": 72
        },
        "outputId": "cfd57d4e-b89e-43ae-860e-ca14b297e79c"
      },
      "source": [
        "from google.colab import files\n",
        "uploaded = files.upload()\n"
      ],
      "execution_count": 25,
      "outputs": [
        {
          "output_type": "display_data",
          "data": {
            "text/html": [
              "\n",
              "     <input type=\"file\" id=\"files-79f0b975-dd6c-475b-89c8-53fa2ef1635a\" name=\"files[]\" multiple disabled />\n",
              "     <output id=\"result-79f0b975-dd6c-475b-89c8-53fa2ef1635a\">\n",
              "      Upload widget is only available when the cell has been executed in the\n",
              "      current browser session. Please rerun this cell to enable.\n",
              "      </output>\n",
              "      <script src=\"/nbextensions/google.colab/files.js\"></script> "
            ],
            "text/plain": [
              "<IPython.core.display.HTML object>"
            ]
          },
          "metadata": {
            "tags": []
          }
        },
        {
          "output_type": "stream",
          "text": [
            "Saving word2vec.bin to word2vec (1).bin\n"
          ],
          "name": "stdout"
        }
      ]
    },
    {
      "cell_type": "markdown",
      "metadata": {
        "id": "FyG9F5uZ72ay",
        "colab_type": "text"
      },
      "source": [
        "# **DATA PREPROCESSING: LOADING**"
      ]
    },
    {
      "cell_type": "code",
      "metadata": {
        "id": "6tLeiT07g66V",
        "colab_type": "code",
        "colab": {}
      },
      "source": [
        "files=['train_pos.csv','train_neg.csv','val_pos.csv','val_neg.csv',\n",
        "       'test_pos.csv','test_neg.csv']\n",
        "\n",
        "def load_data(file):\n",
        "    def retreive_from_csv(words):\n",
        "        ls = [i for i in words]\n",
        "        return ls\n",
        "    \n",
        "    f = open(file)\n",
        "    lists=[]\n",
        " \n",
        "    for j in f:\n",
        "        lists.append((retreive_from_csv(eval(j))))\n",
        "     \n",
        "    return lists"
      ],
      "execution_count": 0,
      "outputs": []
    },
    {
      "cell_type": "code",
      "metadata": {
        "id": "Z4ga0uMSmbtc",
        "colab_type": "code",
        "colab": {}
      },
      "source": [
        "train_pos_list = load_data(files[0])\n",
        "train_neg_list=load_data(files[1])\n",
        "\n",
        "val_pos_list = load_data(files[2])\n",
        "val_neg_list=load_data(files[3])\n",
        "\n",
        "test_pos_list=load_data(files[4])\n",
        "test_neg_list=load_data(files[5])"
      ],
      "execution_count": 0,
      "outputs": []
    },
    {
      "cell_type": "markdown",
      "metadata": {
        "id": "dDkNzs9a8AuE",
        "colab_type": "text"
      },
      "source": [
        "# DATA PREPROCESSING: GETTING WORD EMBEDDINGS"
      ]
    },
    {
      "cell_type": "markdown",
      "metadata": {
        "id": "VksBv-xXoJiB",
        "colab_type": "text"
      },
      "source": [
        "Word 2 Vec is only on training set and NOT on the entire corpus"
      ]
    },
    {
      "cell_type": "code",
      "metadata": {
        "id": "BhPjHW8pmbtw",
        "colab_type": "code",
        "outputId": "b86396e9-457a-48cf-aa0e-ef53a8abaeca",
        "colab": {
          "base_uri": "https://localhost:8080/",
          "height": 70
        }
      },
      "source": [
        "from gensim.models import Word2Vec\n",
        "\n",
        "w2v_saved_model = g.models.KeyedVectors.load_word2vec_format(\"word2vec.bin\",binary=True)"
      ],
      "execution_count": 107,
      "outputs": [
        {
          "output_type": "stream",
          "text": [
            "/usr/local/lib/python3.6/dist-packages/smart_open/smart_open_lib.py:398: UserWarning: This function is deprecated, use smart_open.open instead. See the migration notes for details: https://github.com/RaRe-Technologies/smart_open/blob/master/README.rst#migrating-to-the-new-open-function\n",
            "  'See the migration notes for details: %s' % _MIGRATION_NOTES_URL\n"
          ],
          "name": "stderr"
        }
      ]
    },
    {
      "cell_type": "code",
      "metadata": {
        "id": "G-SDFUC0mbt1",
        "colab_type": "code",
        "colab": {
          "base_uri": "https://localhost:8080/",
          "height": 115
        },
        "outputId": "6c78e676-b6a9-4eeb-9c73-cbaf93d59c45"
      },
      "source": [
        "print('Number of words in this pre-trained w2v model:', len(w2v_saved_model.wv.vocab))\n",
        "print('Dimension of w2v:', w2v_saved_model.wv.vector_size)"
      ],
      "execution_count": 157,
      "outputs": [
        {
          "output_type": "stream",
          "text": [
            "Number of words in this pre-trained w2v model: 128541\n",
            "Dimension of w2v: 300\n"
          ],
          "name": "stdout"
        },
        {
          "output_type": "stream",
          "text": [
            "/usr/local/lib/python3.6/dist-packages/ipykernel_launcher.py:1: DeprecationWarning: Call to deprecated `wv` (Attribute will be removed in 4.0.0, use self instead).\n",
            "  \"\"\"Entry point for launching an IPython kernel.\n",
            "/usr/local/lib/python3.6/dist-packages/ipykernel_launcher.py:2: DeprecationWarning: Call to deprecated `wv` (Attribute will be removed in 4.0.0, use self instead).\n",
            "  \n"
          ],
          "name": "stderr"
        }
      ]
    },
    {
      "cell_type": "markdown",
      "metadata": {
        "id": "E9BTmWfx8Lfj",
        "colab_type": "text"
      },
      "source": [
        "# DATA PREPROCESSING: ASSIGNING OUTCOME TO CORPUS AS POSITIVE/NEGATIVE"
      ]
    },
    {
      "cell_type": "code",
      "metadata": {
        "id": "t3BaRNv6emq-",
        "colab_type": "code",
        "colab": {}
      },
      "source": [
        "positive_train=pd.DataFrame(columns=['sentence', 'outcome'])\n",
        "positive_train['sentence'] = train_pos_list\n",
        "positive_train['outcome']  = [np.array([1,0])]*len(train_pos_list) \n",
        "\n",
        "positive_test=pd.DataFrame(columns=['sentence', 'outcome'])\n",
        "positive_test['sentence'] = test_pos_list\n",
        "positive_test['outcome']= [np.array([1,0])]*len(test_pos_list)  \n",
        "\n",
        "positive_val=pd.DataFrame(columns=['sentence', 'outcome'])\n",
        "positive_val['sentence'] = val_pos_list\n",
        "positive_val['outcome']= [np.array([1,0])]*len(val_pos_list)    \n",
        "\n",
        "negitive_train=pd.DataFrame(columns=['sentence', 'outcome'])\n",
        "negitive_train['sentence'] = train_neg_list\n",
        "negitive_train['outcome']  = [np.array([0,1])]*len(train_neg_list) \n",
        "\n",
        "negitive_test=pd.DataFrame(columns=['sentence', 'outcome'])\n",
        "negitive_test['sentence'] = test_neg_list\n",
        "negitive_test['outcome'] = [np.array([0,1])]*len(test_neg_list)  \n",
        "\n",
        "negitive_val=pd.DataFrame(columns=['sentence', 'outcome'])\n",
        "negitive_val['sentence'] = val_neg_list\n",
        "negitive_val['outcome']= [np.array([0,1])]*len(val_neg_list)    "
      ],
      "execution_count": 0,
      "outputs": []
    },
    {
      "cell_type": "code",
      "metadata": {
        "id": "9tJOHDIYmbuF",
        "colab_type": "code",
        "colab": {}
      },
      "source": [
        "train_df=positive_train.append(negitive_train)\n",
        "test_df=positive_test.append(negitive_test)\n",
        "val_df=positive_val.append(negitive_val)"
      ],
      "execution_count": 0,
      "outputs": []
    },
    {
      "cell_type": "code",
      "metadata": {
        "id": "wmIR3N-vx1m1",
        "colab_type": "code",
        "colab": {}
      },
      "source": [
        "train_df=train_df.sample(frac=1,random_state=10)\n",
        "train_df.reset_index(inplace=True,drop=True)\n",
        "\n",
        "test_df=test_df.sample(frac=1,random_state=10)\n",
        "test_df.reset_index(inplace=True,drop=True)\n",
        "\n",
        "\n",
        "val_df=val_df.sample(frac=1,random_state=10)\n",
        "val_df.reset_index(inplace=True,drop=True)"
      ],
      "execution_count": 0,
      "outputs": []
    },
    {
      "cell_type": "code",
      "metadata": {
        "id": "f-WDWTJzZ_5V",
        "colab_type": "code",
        "colab": {
          "base_uri": "https://localhost:8080/",
          "height": 191
        },
        "outputId": "8fdad084-2d77-4ed5-e24d-2f022e845878"
      },
      "source": [
        "test_df.head()"
      ],
      "execution_count": 144,
      "outputs": [
        {
          "output_type": "execute_result",
          "data": {
            "text/html": [
              "<div>\n",
              "<style scoped>\n",
              "    .dataframe tbody tr th:only-of-type {\n",
              "        vertical-align: middle;\n",
              "    }\n",
              "\n",
              "    .dataframe tbody tr th {\n",
              "        vertical-align: top;\n",
              "    }\n",
              "\n",
              "    .dataframe thead th {\n",
              "        text-align: right;\n",
              "    }\n",
              "</style>\n",
              "<table border=\"1\" class=\"dataframe\">\n",
              "  <thead>\n",
              "    <tr style=\"text-align: right;\">\n",
              "      <th></th>\n",
              "      <th>sentence</th>\n",
              "      <th>outcome</th>\n",
              "    </tr>\n",
              "  </thead>\n",
              "  <tbody>\n",
              "    <tr>\n",
              "      <th>0</th>\n",
              "      <td>[detracting, from, any, satisfaction, you, mig...</td>\n",
              "      <td>[0, 1]</td>\n",
              "    </tr>\n",
              "    <tr>\n",
              "      <th>1</th>\n",
              "      <td>[i, thought, i, was, going, to, get, some, che...</td>\n",
              "      <td>[1, 0]</td>\n",
              "    </tr>\n",
              "    <tr>\n",
              "      <th>2</th>\n",
              "      <td>[i, 've, played, games, released, in, 2001, th...</td>\n",
              "      <td>[0, 1]</td>\n",
              "    </tr>\n",
              "    <tr>\n",
              "      <th>3</th>\n",
              "      <td>[this, comes, in, handy, when, you, are, worki...</td>\n",
              "      <td>[1, 0]</td>\n",
              "    </tr>\n",
              "    <tr>\n",
              "      <th>4</th>\n",
              "      <td>[yet, it, tries, to, be, both, and, does, so, ...</td>\n",
              "      <td>[0, 1]</td>\n",
              "    </tr>\n",
              "  </tbody>\n",
              "</table>\n",
              "</div>"
            ],
            "text/plain": [
              "                                            sentence outcome\n",
              "0  [detracting, from, any, satisfaction, you, mig...  [0, 1]\n",
              "1  [i, thought, i, was, going, to, get, some, che...  [1, 0]\n",
              "2  [i, 've, played, games, released, in, 2001, th...  [0, 1]\n",
              "3  [this, comes, in, handy, when, you, are, worki...  [1, 0]\n",
              "4  [yet, it, tries, to, be, both, and, does, so, ...  [0, 1]"
            ]
          },
          "metadata": {
            "tags": []
          },
          "execution_count": 144
        }
      ]
    },
    {
      "cell_type": "markdown",
      "metadata": {
        "id": "e6UDgYxc8Tp1",
        "colab_type": "text"
      },
      "source": [
        "# TOKENIZATION OF CORPUS: CONVERTING INTO NUMBERS & PADDING"
      ]
    },
    {
      "cell_type": "code",
      "metadata": {
        "id": "0ktpTh5SbLS2",
        "colab_type": "code",
        "colab": {
          "base_uri": "https://localhost:8080/",
          "height": 50
        },
        "outputId": "43f492d2-99a3-41d4-ab7a-db947536fa47"
      },
      "source": [
        "  tokenizer = Tokenizer(num_words=len(w2v_saved_model.wv.vocab))\n",
        "  tokenizer.fit_on_texts(np.array(train_df[\"sentence\"]))\n",
        "  seq = tokenizer.texts_to_sequences([\" \".join(sent) for sent in train_df[\"sentence\"]])\n",
        "  #print('90th Percentile Sentence Length:', np.percentile([len(s) for s in seq], 99))\n",
        "  X_train = pad_sequences(seq, maxlen=30, padding='post', truncating='post')\n",
        "  y_train = train_df['outcome']"
      ],
      "execution_count": 145,
      "outputs": [
        {
          "output_type": "stream",
          "text": [
            "/usr/local/lib/python3.6/dist-packages/ipykernel_launcher.py:1: DeprecationWarning: Call to deprecated `wv` (Attribute will be removed in 4.0.0, use self instead).\n",
            "  \"\"\"Entry point for launching an IPython kernel.\n"
          ],
          "name": "stderr"
        }
      ]
    },
    {
      "cell_type": "code",
      "metadata": {
        "id": "VBPdTop3oPct",
        "colab_type": "code",
        "colab": {}
      },
      "source": [
        "def tokenizing_corpus(lists,token):\n",
        "  # Convert the sequence of words to sequnce of indices\n",
        "  seq = token.texts_to_sequences([\" \".join(sent) for sent in lists[\"sentence\"]])\n",
        "  #print('90th Percentile Sentence Length:', np.percentile([len(s) for s in seq], 99))\n",
        "  X = pad_sequences(seq, maxlen=30, padding='post', truncating='post')\n",
        "  y = lists['outcome']\n",
        "  return X,y"
      ],
      "execution_count": 0,
      "outputs": []
    },
    {
      "cell_type": "code",
      "metadata": {
        "id": "4X_6VDTdqznk",
        "colab_type": "code",
        "colab": {}
      },
      "source": [
        "X_test,y_test=tokenizing_corpus(test_df,(tokenizer))\n",
        "X_val,y_val=tokenizing_corpus(val_df,(tokenizer))"
      ],
      "execution_count": 0,
      "outputs": []
    },
    {
      "cell_type": "code",
      "metadata": {
        "id": "ef9s-pzlkY6o",
        "colab_type": "code",
        "colab": {}
      },
      "source": [
        "y_train = np.array([i for i in y_train])\n",
        "y_test = np.array([i for i in y_test])\n",
        "y_val = np.array([i for i in y_val])\n"
      ],
      "execution_count": 0,
      "outputs": []
    },
    {
      "cell_type": "code",
      "metadata": {
        "id": "8l3C7mhnknWb",
        "colab_type": "code",
        "colab": {
          "base_uri": "https://localhost:8080/",
          "height": 33
        },
        "outputId": "a5fa220d-0031-4c24-b21c-afa42eaf85a1"
      },
      "source": [
        "y_train.shape"
      ],
      "execution_count": 149,
      "outputs": [
        {
          "output_type": "execute_result",
          "data": {
            "text/plain": [
              "(640000, 2)"
            ]
          },
          "metadata": {
            "tags": []
          },
          "execution_count": 149
        }
      ]
    },
    {
      "cell_type": "markdown",
      "metadata": {
        "id": "Rt0lU6gN85h3",
        "colab_type": "text"
      },
      "source": [
        "# PREPARING THE WEIGHTS"
      ]
    },
    {
      "cell_type": "code",
      "metadata": {
        "id": "N8V1-z-Embu4",
        "colab_type": "code",
        "colab": {}
      },
      "source": [
        "embeddings_matrix = np.random.uniform(-0.05, 0.05, size=(len(tokenizer.word_index)+1, 300)) # +1 is because the matrix indices start with 0\n",
        "\n",
        "for word, i in tokenizer.word_index.items(): # i=0 is the embedding for the zero padding\n",
        "    try:\n",
        "        embeddings_vector = w2v_saved_model[word]\n",
        "    except KeyError:\n",
        "        embeddings_vector = None\n",
        "    if embeddings_vector is not None:\n",
        "        embeddings_matrix[i] = embeddings_vector\n"
      ],
      "execution_count": 0,
      "outputs": []
    },
    {
      "cell_type": "code",
      "metadata": {
        "id": "1wrVCev-mecU",
        "colab_type": "code",
        "colab": {
          "base_uri": "https://localhost:8080/",
          "height": 33
        },
        "outputId": "7f2d2584-e014-409d-b7b9-fd1fd98efaea"
      },
      "source": [
        "embeddings_matrix.shape\n"
      ],
      "execution_count": 138,
      "outputs": [
        {
          "output_type": "execute_result",
          "data": {
            "text/plain": [
              "(128680, 300)"
            ]
          },
          "metadata": {
            "tags": []
          },
          "execution_count": 138
        }
      ]
    },
    {
      "cell_type": "markdown",
      "metadata": {
        "id": "j_j-wPpT8_S7",
        "colab_type": "text"
      },
      "source": [
        "# BASELINE MODEL DEVELOPMENT"
      ]
    },
    {
      "cell_type": "code",
      "metadata": {
        "id": "RuvfCo4yw3wK",
        "colab_type": "code",
        "colab": {
          "base_uri": "https://localhost:8080/",
          "height": 293
        },
        "outputId": "74e47ecd-842a-4935-d124-09433ca32bf8"
      },
      "source": [
        "model = Sequential()\n",
        "model.add(Embedding(input_dim=(len(tokenizer.word_index)+1),output_dim=300, input_length=30, weights = [embeddings_matrix], trainable=False, name='word_embedding_layer', mask_zero=False))\n",
        "\n",
        "\n",
        "model.add(Flatten())\n",
        "\n",
        "model.add(Dropout(rate=0.2, name='dropout_layer'))\n",
        "\n",
        "model.add(layers.Dense(32,  name='hidden_layer',activation = \"relu\", kernel_regularizer=l2(0.01)))\n",
        "\n",
        "model.add(layers.Dense(2, activation='softmax', name='output_layer'))\n",
        "\n",
        "model.summary()\n",
        "\n",
        "model.compile(loss='binary_crossentropy', optimizer='adam',metrics=['accuracy'])\n",
        "\n"
      ],
      "execution_count": 156,
      "outputs": [
        {
          "output_type": "stream",
          "text": [
            "_________________________________________________________________\n",
            "Layer (type)                 Output Shape              Param #   \n",
            "=================================================================\n",
            "word_embedding_layer (Embedd (None, 30, 300)           38604000  \n",
            "_________________________________________________________________\n",
            "flatten_15 (Flatten)         (None, 9000)              0         \n",
            "_________________________________________________________________\n",
            "dropout_layer (Dropout)      (None, 9000)              0         \n",
            "_________________________________________________________________\n",
            "hidden_layer (Dense)         (None, 32)                288032    \n",
            "_________________________________________________________________\n",
            "output_layer (Dense)         (None, 2)                 66        \n",
            "=================================================================\n",
            "Total params: 38,892,098\n",
            "Trainable params: 288,098\n",
            "Non-trainable params: 38,604,000\n",
            "_________________________________________________________________\n"
          ],
          "name": "stdout"
        }
      ]
    },
    {
      "cell_type": "markdown",
      "metadata": {
        "id": "4xrcbOxc9QDz",
        "colab_type": "text"
      },
      "source": [
        "# TRAINING THE BASELINE MODEL"
      ]
    },
    {
      "cell_type": "code",
      "metadata": {
        "id": "lNoDPzdZmbvK",
        "colab_type": "code",
        "colab": {
          "base_uri": "https://localhost:8080/",
          "height": 131
        },
        "outputId": "4768aab8-f1e8-4aa0-c153-e7dba57d64f5"
      },
      "source": [
        "model.fit(X_train, y_train, batch_size=256, epochs=5,validation_data=(X_val, y_val))"
      ],
      "execution_count": 158,
      "outputs": [
        {
          "output_type": "stream",
          "text": [
            "Train on 640000 samples, validate on 80000 samples\n",
            "Epoch 1/5\n",
            "640000/640000 [==============================] - 138s 216us/step - loss: 0.6160 - acc: 0.7031 - val_loss: 0.6384 - val_acc: 0.6727\n",
            "Epoch 2/5\n",
            "640000/640000 [==============================] - 134s 210us/step - loss: 0.5926 - acc: 0.7144 - val_loss: 0.6718 - val_acc: 0.6453\n",
            "Epoch 00002: early stopping\n"
          ],
          "name": "stdout"
        },
        {
          "output_type": "execute_result",
          "data": {
            "text/plain": [
              "<keras.callbacks.History at 0x7f821c197e48>"
            ]
          },
          "metadata": {
            "tags": []
          },
          "execution_count": 158
        }
      ]
    },
    {
      "cell_type": "markdown",
      "metadata": {
        "id": "wYmcxgV_9X0a",
        "colab_type": "text"
      },
      "source": [
        "# BASELINE MODEL ACCURACY"
      ]
    },
    {
      "cell_type": "code",
      "metadata": {
        "id": "eT_H6mgVmbvR",
        "colab_type": "code",
        "colab": {
          "base_uri": "https://localhost:8080/",
          "height": 50
        },
        "outputId": "5ff1a79c-1f73-48ee-e527-3bccda0b7413"
      },
      "source": [
        "score, acc = model.evaluate(X_test, y_test, batch_size=32)\n",
        "\n",
        "\n",
        "print(\"Accuracy on Test Set = {0:4.3f}\".format(acc))"
      ],
      "execution_count": 159,
      "outputs": [
        {
          "output_type": "stream",
          "text": [
            "80000/80000 [==============================] - 6s 69us/step\n",
            "Accuracy on Test Set = 0.652\n"
          ],
          "name": "stdout"
        }
      ]
    },
    {
      "cell_type": "markdown",
      "metadata": {
        "id": "358u4vxE9avK",
        "colab_type": "text"
      },
      "source": [
        "# PERFORMANCE TUNING ON VALIDATION SET: TUNING ACTIVATIONS\n"
      ]
    },
    {
      "cell_type": "code",
      "metadata": {
        "id": "h_O8UQRU9gLl",
        "colab_type": "code",
        "colab": {
          "base_uri": "https://localhost:8080/",
          "height": 947
        },
        "outputId": "8c5fa9b3-b9f6-4d65-a3d6-f0ebc965909d"
      },
      "source": [
        "activations = [\"sigmoid\", \"tanh\"]\n",
        "results=[]\n",
        "concat_result=[]\n",
        "\n",
        "for i in range(len(activations)):\n",
        "        \n",
        "        # create model\n",
        "        model = Sequential()\n",
        "        model.add(Embedding(input_dim=(len(tokenizer.word_index)+1),output_dim=300,input_length=30,weights = [embeddings_matrix], trainable=False, name='word_embedding_layer',mask_zero=False))\n",
        "\n",
        "\n",
        "        model.add(Flatten())\n",
        "\n",
        "       \n",
        "\n",
        "        model.add(layers.Dense(32,  name='hidden_layer',activation = activations[i], kernel_regularizer=l2(0.01)))\n",
        "        \n",
        "        model.add(Dropout(rate=0.2, name='dropout_layer'))\n",
        "\n",
        "        model.add(layers.Dense(2, activation='softmax', name='output_layer'))\n",
        "\n",
        "        model.summary()\n",
        "\n",
        "        \n",
        "        \n",
        "        # Compile model\n",
        "        model.compile(loss='binary_crossentropy', optimizer='adam',metrics=['accuracy'])\n",
        "\n",
        "        model.fit(X_train, y_train, batch_size=256, epochs=5,validation_data=(X_val, y_val))\n",
        "\n",
        "        score, acc = model.evaluate(X_test, y_test, batch_size=32)\n",
        "        print(\"Accuracy on Test Set = {0:4.3f}\".format(acc))\n",
        "        \n",
        "        # Create a column from the list\n",
        "        \n",
        "        \n",
        "        results.append(acc) \n",
        "        \n",
        "   \n",
        "        concat_result=pd.DataFrame(results)\n",
        "        results=[]\n",
        "    \n",
        "        concat_result\n",
        "    "
      ],
      "execution_count": 161,
      "outputs": [
        {
          "output_type": "stream",
          "text": [
            "_________________________________________________________________\n",
            "Layer (type)                 Output Shape              Param #   \n",
            "=================================================================\n",
            "word_embedding_layer (Embedd (None, 30, 300)           38604000  \n",
            "_________________________________________________________________\n",
            "flatten_17 (Flatten)         (None, 9000)              0         \n",
            "_________________________________________________________________\n",
            "hidden_layer (Dense)         (None, 32)                288032    \n",
            "_________________________________________________________________\n",
            "dropout_layer (Dropout)      (None, 32)                0         \n",
            "_________________________________________________________________\n",
            "output_layer (Dense)         (None, 2)                 66        \n",
            "=================================================================\n",
            "Total params: 38,892,098\n",
            "Trainable params: 288,098\n",
            "Non-trainable params: 38,604,000\n",
            "_________________________________________________________________\n",
            "Train on 640000 samples, validate on 80000 samples\n",
            "Epoch 1/5\n",
            "640000/640000 [==============================] - 78s 122us/step - loss: 0.6789 - acc: 0.6436 - val_loss: 0.6818 - val_acc: 0.6546\n",
            "Epoch 2/5\n",
            "640000/640000 [==============================] - 76s 119us/step - loss: 0.6663 - acc: 0.6551 - val_loss: 0.6936 - val_acc: 0.6309\n",
            "Epoch 00002: early stopping\n"
          ],
          "name": "stdout"
        },
        {
          "output_type": "execute_result",
          "data": {
            "text/plain": [
              "<keras.callbacks.History at 0x7f821b5e4780>"
            ]
          },
          "metadata": {
            "tags": []
          },
          "execution_count": 161
        },
        {
          "output_type": "stream",
          "text": [
            "80000/80000 [==============================] - 6s 71us/step\n",
            "Accuracy on Valdiation Set = 0.643\n"
          ],
          "name": "stdout"
        },
        {
          "output_type": "execute_result",
          "data": {
            "text/html": [
              "<div>\n",
              "<style scoped>\n",
              "    .dataframe tbody tr th:only-of-type {\n",
              "        vertical-align: middle;\n",
              "    }\n",
              "\n",
              "    .dataframe tbody tr th {\n",
              "        vertical-align: top;\n",
              "    }\n",
              "\n",
              "    .dataframe thead th {\n",
              "        text-align: right;\n",
              "    }\n",
              "</style>\n",
              "<table border=\"1\" class=\"dataframe\">\n",
              "  <thead>\n",
              "    <tr style=\"text-align: right;\">\n",
              "      <th></th>\n",
              "      <th>0</th>\n",
              "    </tr>\n",
              "  </thead>\n",
              "  <tbody>\n",
              "    <tr>\n",
              "      <th>0</th>\n",
              "      <td>0.642912</td>\n",
              "    </tr>\n",
              "  </tbody>\n",
              "</table>\n",
              "</div>"
            ],
            "text/plain": [
              "          0\n",
              "0  0.642912"
            ]
          },
          "metadata": {
            "tags": []
          },
          "execution_count": 161
        },
        {
          "output_type": "stream",
          "text": [
            "_________________________________________________________________\n",
            "Layer (type)                 Output Shape              Param #   \n",
            "=================================================================\n",
            "word_embedding_layer (Embedd (None, 30, 300)           38604000  \n",
            "_________________________________________________________________\n",
            "flatten_18 (Flatten)         (None, 9000)              0         \n",
            "_________________________________________________________________\n",
            "hidden_layer (Dense)         (None, 32)                288032    \n",
            "_________________________________________________________________\n",
            "dropout_layer (Dropout)      (None, 32)                0         \n",
            "_________________________________________________________________\n",
            "output_layer (Dense)         (None, 2)                 66        \n",
            "=================================================================\n",
            "Total params: 38,892,098\n",
            "Trainable params: 288,098\n",
            "Non-trainable params: 38,604,000\n",
            "_________________________________________________________________\n",
            "Train on 640000 samples, validate on 80000 samples\n",
            "Epoch 1/5\n",
            "640000/640000 [==============================] - 71s 111us/step - loss: 0.6138 - acc: 0.7137 - val_loss: 0.6283 - val_acc: 0.6918\n",
            "Epoch 2/5\n",
            "640000/640000 [==============================] - 69s 108us/step - loss: 0.5887 - acc: 0.7230 - val_loss: 0.6518 - val_acc: 0.6735\n",
            "Epoch 00002: early stopping\n"
          ],
          "name": "stdout"
        },
        {
          "output_type": "execute_result",
          "data": {
            "text/plain": [
              "<keras.callbacks.History at 0x7f821b1316a0>"
            ]
          },
          "metadata": {
            "tags": []
          },
          "execution_count": 161
        },
        {
          "output_type": "stream",
          "text": [
            "80000/80000 [==============================] - 6s 72us/step\n",
            "Accuracy on Valdiation Set = 0.678\n"
          ],
          "name": "stdout"
        },
        {
          "output_type": "execute_result",
          "data": {
            "text/html": [
              "<div>\n",
              "<style scoped>\n",
              "    .dataframe tbody tr th:only-of-type {\n",
              "        vertical-align: middle;\n",
              "    }\n",
              "\n",
              "    .dataframe tbody tr th {\n",
              "        vertical-align: top;\n",
              "    }\n",
              "\n",
              "    .dataframe thead th {\n",
              "        text-align: right;\n",
              "    }\n",
              "</style>\n",
              "<table border=\"1\" class=\"dataframe\">\n",
              "  <thead>\n",
              "    <tr style=\"text-align: right;\">\n",
              "      <th></th>\n",
              "      <th>0</th>\n",
              "    </tr>\n",
              "  </thead>\n",
              "  <tbody>\n",
              "    <tr>\n",
              "      <th>0</th>\n",
              "      <td>0.678013</td>\n",
              "    </tr>\n",
              "  </tbody>\n",
              "</table>\n",
              "</div>"
            ],
            "text/plain": [
              "          0\n",
              "0  0.678013"
            ]
          },
          "metadata": {
            "tags": []
          },
          "execution_count": 161
        }
      ]
    },
    {
      "cell_type": "markdown",
      "metadata": {
        "id": "NJD1dwDgBCB9",
        "colab_type": "text"
      },
      "source": [
        "# # PERFORMANCE TUNING ON VALIDATION SET: DIFFERENT DROPOUT RATESS\n"
      ]
    },
    {
      "cell_type": "code",
      "metadata": {
        "id": "kVmMJpj1_-W2",
        "colab_type": "code",
        "colab": {
          "base_uri": "https://localhost:8080/",
          "height": 1000
        },
        "outputId": "2a24bdb0-8783-4251-9cb0-17acc7038584"
      },
      "source": [
        "\n",
        "dropouts= [0.2, 0.3, 0.4,0.5]\n",
        "results_dropout=[]\n",
        "concat_result_dropout=[]\n",
        "\n",
        "\n",
        "for i in range(len(dropouts)):\n",
        "        \n",
        "        # create model\n",
        "        model = Sequential()\n",
        "        model.add(Embedding(input_dim=(len(tokenizer.word_index)+1),output_dim=300,input_length=30,weights = [embeddings_matrix], trainable=False, name='word_embedding_layer',mask_zero=False))\n",
        "\n",
        "\n",
        "        model.add(Flatten())\n",
        "\n",
        "        model.add(layers.Dense(32,  name='hidden_layer',activation = 'tanh', kernel_regularizer=l2(0.01)))\n",
        "        \n",
        "        model.add(Dropout(rate=dropouts[i], name='dropout_layer'))\n",
        "\n",
        "        model.add(layers.Dense(2, activation='softmax', name='output_layer'))\n",
        "\n",
        "        model.summary()\n",
        "\n",
        "        \n",
        "        \n",
        "        # Compile model\n",
        "        model.compile(loss='binary_crossentropy', optimizer='adam',metrics=['accuracy'])\n",
        "\n",
        "        model.fit(X_train, y_train, batch_size=256, epochs=5,validation_data=(X_val, y_val))\n",
        "\n",
        "        score, acc = model.evaluate(X_test, y_test, batch_size=32)\n",
        "        print(\"Accuracy on Test Set = {0:4.3f}\".format(acc))\n",
        "        \n",
        "        # Create a column from the list\n",
        "        \n",
        "        \n",
        "        results.append(acc) \n",
        "        \n",
        "   \n",
        "        concat_result=pd.DataFrame(results)\n",
        "        results=[]\n",
        "    \n",
        "        concat_result    "
      ],
      "execution_count": 164,
      "outputs": [
        {
          "output_type": "stream",
          "text": [
            "_________________________________________________________________\n",
            "Layer (type)                 Output Shape              Param #   \n",
            "=================================================================\n",
            "word_embedding_layer (Embedd (None, 30, 300)           38604000  \n",
            "_________________________________________________________________\n",
            "flatten_24 (Flatten)         (None, 9000)              0         \n",
            "_________________________________________________________________\n",
            "hidden_layer (Dense)         (None, 32)                288032    \n",
            "_________________________________________________________________\n",
            "dropout_layer (Dropout)      (None, 32)                0         \n",
            "_________________________________________________________________\n",
            "output_layer (Dense)         (None, 2)                 66        \n",
            "=================================================================\n",
            "Total params: 38,892,098\n",
            "Trainable params: 288,098\n",
            "Non-trainable params: 38,604,000\n",
            "_________________________________________________________________\n",
            "Train on 640000 samples, validate on 80000 samples\n",
            "Epoch 1/5\n",
            "640000/640000 [==============================] - 68s 106us/step - loss: 0.6245 - acc: 0.7114 - val_loss: 0.6358 - val_acc: 0.6887\n",
            "Epoch 2/5\n",
            "640000/640000 [==============================] - 66s 103us/step - loss: 0.5920 - acc: 0.7213 - val_loss: 0.7133 - val_acc: 0.6218\n",
            "Epoch 3/5\n",
            "640000/640000 [==============================] - 66s 102us/step - loss: 0.5870 - acc: 0.7238 - val_loss: 0.6379 - val_acc: 0.6808\n",
            "Epoch 4/5\n",
            "640000/640000 [==============================] - 66s 103us/step - loss: 0.5865 - acc: 0.7240 - val_loss: 0.6118 - val_acc: 0.7036\n",
            "Epoch 5/5\n",
            "640000/640000 [==============================] - 66s 103us/step - loss: 0.5852 - acc: 0.7239 - val_loss: 0.6249 - val_acc: 0.6872\n"
          ],
          "name": "stdout"
        },
        {
          "output_type": "execute_result",
          "data": {
            "text/plain": [
              "<keras.callbacks.History at 0x7f82140c7860>"
            ]
          },
          "metadata": {
            "tags": []
          },
          "execution_count": 164
        },
        {
          "output_type": "stream",
          "text": [
            "80000/80000 [==============================] - 6s 75us/step\n",
            "Accuracy on Validation Set = 0.692\n"
          ],
          "name": "stdout"
        },
        {
          "output_type": "execute_result",
          "data": {
            "text/html": [
              "<div>\n",
              "<style scoped>\n",
              "    .dataframe tbody tr th:only-of-type {\n",
              "        vertical-align: middle;\n",
              "    }\n",
              "\n",
              "    .dataframe tbody tr th {\n",
              "        vertical-align: top;\n",
              "    }\n",
              "\n",
              "    .dataframe thead th {\n",
              "        text-align: right;\n",
              "    }\n",
              "</style>\n",
              "<table border=\"1\" class=\"dataframe\">\n",
              "  <thead>\n",
              "    <tr style=\"text-align: right;\">\n",
              "      <th></th>\n",
              "      <th>0</th>\n",
              "    </tr>\n",
              "  </thead>\n",
              "  <tbody>\n",
              "    <tr>\n",
              "      <th>0</th>\n",
              "      <td>0.691825</td>\n",
              "    </tr>\n",
              "  </tbody>\n",
              "</table>\n",
              "</div>"
            ],
            "text/plain": [
              "          0\n",
              "0  0.691825"
            ]
          },
          "metadata": {
            "tags": []
          },
          "execution_count": 164
        },
        {
          "output_type": "stream",
          "text": [
            "_________________________________________________________________\n",
            "Layer (type)                 Output Shape              Param #   \n",
            "=================================================================\n",
            "word_embedding_layer (Embedd (None, 30, 300)           38604000  \n",
            "_________________________________________________________________\n",
            "flatten_25 (Flatten)         (None, 9000)              0         \n",
            "_________________________________________________________________\n",
            "hidden_layer (Dense)         (None, 32)                288032    \n",
            "_________________________________________________________________\n",
            "dropout_layer (Dropout)      (None, 32)                0         \n",
            "_________________________________________________________________\n",
            "output_layer (Dense)         (None, 2)                 66        \n",
            "=================================================================\n",
            "Total params: 38,892,098\n",
            "Trainable params: 288,098\n",
            "Non-trainable params: 38,604,000\n",
            "_________________________________________________________________\n",
            "Train on 640000 samples, validate on 80000 samples\n",
            "Epoch 1/5\n",
            "640000/640000 [==============================] - 86s 135us/step - loss: 0.6281 - acc: 0.7100 - val_loss: 0.7054 - val_acc: 0.6273\n",
            "Epoch 2/5\n",
            "640000/640000 [==============================] - 84s 131us/step - loss: 0.6041 - acc: 0.7160 - val_loss: 0.6785 - val_acc: 0.6540\n",
            "Epoch 3/5\n",
            "640000/640000 [==============================] - 84s 132us/step - loss: 0.5987 - acc: 0.7187 - val_loss: 0.6184 - val_acc: 0.7011\n",
            "Epoch 4/5\n",
            "640000/640000 [==============================] - 84s 131us/step - loss: 0.5965 - acc: 0.7192 - val_loss: 0.6335 - val_acc: 0.6857\n",
            "Epoch 5/5\n",
            "640000/640000 [==============================] - 84s 131us/step - loss: 0.5945 - acc: 0.7204 - val_loss: 0.6411 - val_acc: 0.6818\n"
          ],
          "name": "stdout"
        },
        {
          "output_type": "execute_result",
          "data": {
            "text/plain": [
              "<keras.callbacks.History at 0x7f8213bdc6a0>"
            ]
          },
          "metadata": {
            "tags": []
          },
          "execution_count": 164
        },
        {
          "output_type": "stream",
          "text": [
            "80000/80000 [==============================] - 6s 75us/step\n",
            "Accuracy on Validation Set = 0.687\n"
          ],
          "name": "stdout"
        },
        {
          "output_type": "execute_result",
          "data": {
            "text/html": [
              "<div>\n",
              "<style scoped>\n",
              "    .dataframe tbody tr th:only-of-type {\n",
              "        vertical-align: middle;\n",
              "    }\n",
              "\n",
              "    .dataframe tbody tr th {\n",
              "        vertical-align: top;\n",
              "    }\n",
              "\n",
              "    .dataframe thead th {\n",
              "        text-align: right;\n",
              "    }\n",
              "</style>\n",
              "<table border=\"1\" class=\"dataframe\">\n",
              "  <thead>\n",
              "    <tr style=\"text-align: right;\">\n",
              "      <th></th>\n",
              "      <th>0</th>\n",
              "    </tr>\n",
              "  </thead>\n",
              "  <tbody>\n",
              "    <tr>\n",
              "      <th>0</th>\n",
              "      <td>0.68655</td>\n",
              "    </tr>\n",
              "  </tbody>\n",
              "</table>\n",
              "</div>"
            ],
            "text/plain": [
              "         0\n",
              "0  0.68655"
            ]
          },
          "metadata": {
            "tags": []
          },
          "execution_count": 164
        },
        {
          "output_type": "stream",
          "text": [
            "_________________________________________________________________\n",
            "Layer (type)                 Output Shape              Param #   \n",
            "=================================================================\n",
            "word_embedding_layer (Embedd (None, 30, 300)           38604000  \n",
            "_________________________________________________________________\n",
            "flatten_26 (Flatten)         (None, 9000)              0         \n",
            "_________________________________________________________________\n",
            "hidden_layer (Dense)         (None, 32)                288032    \n",
            "_________________________________________________________________\n",
            "dropout_layer (Dropout)      (None, 32)                0         \n",
            "_________________________________________________________________\n",
            "output_layer (Dense)         (None, 2)                 66        \n",
            "=================================================================\n",
            "Total params: 38,892,098\n",
            "Trainable params: 288,098\n",
            "Non-trainable params: 38,604,000\n",
            "_________________________________________________________________\n",
            "Train on 640000 samples, validate on 80000 samples\n",
            "Epoch 1/5\n",
            "640000/640000 [==============================] - 122s 190us/step - loss: 0.6402 - acc: 0.7064 - val_loss: 0.6475 - val_acc: 0.6835\n",
            "Epoch 2/5\n",
            "640000/640000 [==============================] - 115s 180us/step - loss: 0.6152 - acc: 0.7112 - val_loss: 0.6397 - val_acc: 0.6873\n",
            "Epoch 3/5\n",
            "640000/640000 [==============================] - 116s 181us/step - loss: 0.6094 - acc: 0.7130 - val_loss: 0.6400 - val_acc: 0.6822\n",
            "Epoch 4/5\n",
            "640000/640000 [==============================] - 117s 183us/step - loss: 0.6061 - acc: 0.7146 - val_loss: 0.6505 - val_acc: 0.6761\n",
            "Epoch 5/5\n",
            "640000/640000 [==============================] - 116s 181us/step - loss: 0.6058 - acc: 0.7135 - val_loss: 0.6488 - val_acc: 0.6728\n"
          ],
          "name": "stdout"
        },
        {
          "output_type": "execute_result",
          "data": {
            "text/plain": [
              "<keras.callbacks.History at 0x7f8213733a90>"
            ]
          },
          "metadata": {
            "tags": []
          },
          "execution_count": 164
        },
        {
          "output_type": "stream",
          "text": [
            "80000/80000 [==============================] - 19s 234us/step\n",
            "Accuracy on Validation Set = 0.685\n"
          ],
          "name": "stdout"
        },
        {
          "output_type": "execute_result",
          "data": {
            "text/html": [
              "<div>\n",
              "<style scoped>\n",
              "    .dataframe tbody tr th:only-of-type {\n",
              "        vertical-align: middle;\n",
              "    }\n",
              "\n",
              "    .dataframe tbody tr th {\n",
              "        vertical-align: top;\n",
              "    }\n",
              "\n",
              "    .dataframe thead th {\n",
              "        text-align: right;\n",
              "    }\n",
              "</style>\n",
              "<table border=\"1\" class=\"dataframe\">\n",
              "  <thead>\n",
              "    <tr style=\"text-align: right;\">\n",
              "      <th></th>\n",
              "      <th>0</th>\n",
              "    </tr>\n",
              "  </thead>\n",
              "  <tbody>\n",
              "    <tr>\n",
              "      <th>0</th>\n",
              "      <td>0.6854</td>\n",
              "    </tr>\n",
              "  </tbody>\n",
              "</table>\n",
              "</div>"
            ],
            "text/plain": [
              "        0\n",
              "0  0.6854"
            ]
          },
          "metadata": {
            "tags": []
          },
          "execution_count": 164
        },
        {
          "output_type": "stream",
          "text": [
            "_________________________________________________________________\n",
            "Layer (type)                 Output Shape              Param #   \n",
            "=================================================================\n",
            "word_embedding_layer (Embedd (None, 30, 300)           38604000  \n",
            "_________________________________________________________________\n",
            "flatten_27 (Flatten)         (None, 9000)              0         \n",
            "_________________________________________________________________\n",
            "hidden_layer (Dense)         (None, 32)                288032    \n",
            "_________________________________________________________________\n",
            "dropout_layer (Dropout)      (None, 32)                0         \n",
            "_________________________________________________________________\n",
            "output_layer (Dense)         (None, 2)                 66        \n",
            "=================================================================\n",
            "Total params: 38,892,098\n",
            "Trainable params: 288,098\n",
            "Non-trainable params: 38,604,000\n",
            "_________________________________________________________________\n",
            "Train on 640000 samples, validate on 80000 samples\n",
            "Epoch 1/5\n",
            "640000/640000 [==============================] - 106s 166us/step - loss: 0.6458 - acc: 0.7024 - val_loss: 0.6450 - val_acc: 0.6876\n",
            "Epoch 2/5\n",
            "640000/640000 [==============================] - 107s 167us/step - loss: 0.6263 - acc: 0.7056 - val_loss: 0.6594 - val_acc: 0.6737\n",
            "Epoch 3/5\n",
            "640000/640000 [==============================] - 106s 166us/step - loss: 0.6222 - acc: 0.7078 - val_loss: 0.6461 - val_acc: 0.6865\n",
            "Epoch 4/5\n",
            "640000/640000 [==============================] - 107s 166us/step - loss: 0.6204 - acc: 0.7073 - val_loss: 0.6353 - val_acc: 0.6855\n",
            "Epoch 5/5\n",
            "640000/640000 [==============================] - 106s 166us/step - loss: 0.6189 - acc: 0.7066 - val_loss: 0.6941 - val_acc: 0.6386\n"
          ],
          "name": "stdout"
        },
        {
          "output_type": "execute_result",
          "data": {
            "text/plain": [
              "<keras.callbacks.History at 0x7f821324b358>"
            ]
          },
          "metadata": {
            "tags": []
          },
          "execution_count": 164
        },
        {
          "output_type": "stream",
          "text": [
            "80000/80000 [==============================] - 19s 242us/step\n",
            "Accuracy on Validation Set = 0.645\n"
          ],
          "name": "stdout"
        },
        {
          "output_type": "execute_result",
          "data": {
            "text/html": [
              "<div>\n",
              "<style scoped>\n",
              "    .dataframe tbody tr th:only-of-type {\n",
              "        vertical-align: middle;\n",
              "    }\n",
              "\n",
              "    .dataframe tbody tr th {\n",
              "        vertical-align: top;\n",
              "    }\n",
              "\n",
              "    .dataframe thead th {\n",
              "        text-align: right;\n",
              "    }\n",
              "</style>\n",
              "<table border=\"1\" class=\"dataframe\">\n",
              "  <thead>\n",
              "    <tr style=\"text-align: right;\">\n",
              "      <th></th>\n",
              "      <th>0</th>\n",
              "    </tr>\n",
              "  </thead>\n",
              "  <tbody>\n",
              "    <tr>\n",
              "      <th>0</th>\n",
              "      <td>0.6454</td>\n",
              "    </tr>\n",
              "  </tbody>\n",
              "</table>\n",
              "</div>"
            ],
            "text/plain": [
              "        0\n",
              "0  0.6454"
            ]
          },
          "metadata": {
            "tags": []
          },
          "execution_count": 164
        }
      ]
    },
    {
      "cell_type": "code",
      "metadata": {
        "id": "8y6RSZk8ysyz",
        "colab_type": "code",
        "colab": {}
      },
      "source": [
        ""
      ],
      "execution_count": 0,
      "outputs": []
    }
  ]
}